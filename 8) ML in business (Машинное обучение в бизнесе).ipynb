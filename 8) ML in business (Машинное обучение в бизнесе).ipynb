{
 "cells": [
  {
   "cell_type": "markdown",
   "id": "61bed742",
   "metadata": {
    "toc": true
   },
   "source": [
    "<h1>Table of Contents<span class=\"tocSkip\"></span></h1>\n",
    "<div class=\"toc\"><ul class=\"toc-item\"><li><span><a href=\"#Загрузка-и-подготовка-данных\" data-toc-modified-id=\"Загрузка-и-подготовка-данных-1\"><span class=\"toc-item-num\">1&nbsp;&nbsp;</span>Загрузка и подготовка данных</a></span><ul class=\"toc-item\"><li><span><a href=\"#Импорт-библиотек\" data-toc-modified-id=\"Импорт-библиотек-1.1\"><span class=\"toc-item-num\">1.1&nbsp;&nbsp;</span>Импорт библиотек</a></span></li><li><span><a href=\"#Загрузим-данные-из-файлов-и-изучим-их\" data-toc-modified-id=\"Загрузим-данные-из-файлов-и-изучим-их-1.2\"><span class=\"toc-item-num\">1.2&nbsp;&nbsp;</span>Загрузим данные из файлов и изучим их</a></span></li></ul></li><li><span><a href=\"#Обучение-и-проверка-модели\" data-toc-modified-id=\"Обучение-и-проверка-модели-2\"><span class=\"toc-item-num\">2&nbsp;&nbsp;</span>Обучение и проверка модели</a></span><ul class=\"toc-item\"><li><span><a href=\"#Разделение-данных-на-признаки-и-целевой-признак\" data-toc-modified-id=\"Разделение-данных-на-признаки-и-целевой-признак-2.1\"><span class=\"toc-item-num\">2.1&nbsp;&nbsp;</span>Разделение данных на признаки и целевой признак</a></span></li><li><span><a href=\"#Разделение-данных-на-обучающую-и-валидационную-выборку\" data-toc-modified-id=\"Разделение-данных-на-обучающую-и-валидационную-выборку-2.2\"><span class=\"toc-item-num\">2.2&nbsp;&nbsp;</span>Разделение данных на обучающую и валидационную выборку</a></span></li><li><span><a href=\"#Обучение-моделей\" data-toc-modified-id=\"Обучение-моделей-2.3\"><span class=\"toc-item-num\">2.3&nbsp;&nbsp;</span>Обучение моделей</a></span></li></ul></li><li><span><a href=\"#Подготовка-к-расчёту-прибыли\" data-toc-modified-id=\"Подготовка-к-расчёту-прибыли-3\"><span class=\"toc-item-num\">3&nbsp;&nbsp;</span>Подготовка к расчёту прибыли</a></span><ul class=\"toc-item\"><li><span><a href=\"#Подготовка-расчетных-переменных\" data-toc-modified-id=\"Подготовка-расчетных-переменных-3.1\"><span class=\"toc-item-num\">3.1&nbsp;&nbsp;</span>Подготовка расчетных переменных</a></span></li><li><span><a href=\"#Расчет-минимального-количества-баррелей-для-безубыточной-разработки.\" data-toc-modified-id=\"Расчет-минимального-количества-баррелей-для-безубыточной-разработки.-3.2\"><span class=\"toc-item-num\">3.2&nbsp;&nbsp;</span>Расчет минимального количества баррелей для безубыточной разработки.</a></span></li><li><span><a href=\"#Расчет-прибыли-с-лучших-200-точек\" data-toc-modified-id=\"Расчет-прибыли-с-лучших-200-точек-3.3\"><span class=\"toc-item-num\">3.3&nbsp;&nbsp;</span>Расчет прибыли с лучших 200 точек</a></span></li></ul></li><li><span><a href=\"#Расчёт-прибыли-и-рисков\" data-toc-modified-id=\"Расчёт-прибыли-и-рисков-4\"><span class=\"toc-item-num\">4&nbsp;&nbsp;</span>Расчёт прибыли и рисков</a></span><ul class=\"toc-item\"><li><span><a href=\"#Расчет-Bootstrap\" data-toc-modified-id=\"Расчет-Bootstrap-4.1\"><span class=\"toc-item-num\">4.1&nbsp;&nbsp;</span>Расчет Bootstrap</a></span></li></ul></li><li><span><a href=\"#Чек-лист-готовности-проекта\" data-toc-modified-id=\"Чек-лист-готовности-проекта-5\"><span class=\"toc-item-num\">5&nbsp;&nbsp;</span>Чек-лист готовности проекта</a></span></li></ul></div>"
   ]
  },
  {
   "cell_type": "markdown",
   "id": "3a511bd7",
   "metadata": {},
   "source": [
    "# Выбор локации для скважины"
   ]
  },
  {
   "cell_type": "markdown",
   "id": "74968a76",
   "metadata": {},
   "source": [
    "Допустим, вы работаете в добывающей компании «ГлавРосГосНефть». Нужно решить, где бурить новую скважину.\n",
    "\n",
    "Вам предоставлены пробы нефти в трёх регионах: в каждом 10 000 месторождений, где измерили качество нефти и объём её запасов. Постройте модель машинного обучения, которая поможет определить регион, где добыча принесёт наибольшую прибыль. Проанализируйте возможную прибыль и риски техникой *Bootstrap.*\n",
    "\n",
    "Шаги для выбора локации:\n",
    "\n",
    "- В избранном регионе ищут месторождения, для каждого определяют значения признаков;\n",
    "- Строят модель и оценивают объём запасов;\n",
    "- Выбирают месторождения с самым высокими оценками значений. Количество месторождений зависит от бюджета компании и стоимости разработки одной скважины;\n",
    "- Прибыль равна суммарной прибыли отобранных месторождений."
   ]
  },
  {
   "cell_type": "markdown",
   "id": "fa59c625",
   "metadata": {},
   "source": [
    "## Загрузка и подготовка данных"
   ]
  },
  {
   "cell_type": "markdown",
   "id": "f41a9767",
   "metadata": {},
   "source": [
    "**Описание проекта:**"
   ]
  },
  {
   "cell_type": "markdown",
   "id": "7a8b52d9",
   "metadata": {},
   "source": [
    "Для нефтедобывающей компании ГРГН нужно определить самый выгодный для разработки регион. Нужно построить модель, которая исходя из исходных данных сможет выполнить задачу. Далее нужно проанализировать прибыль и подвести итоги исследования."
   ]
  },
  {
   "cell_type": "markdown",
   "id": "e67c9fdf",
   "metadata": {},
   "source": [
    "**Известные данные:**"
   ]
  },
  {
   "cell_type": "markdown",
   "id": "a25e95db",
   "metadata": {},
   "source": [
    "- id — уникальный идентификатор скважины;\n",
    "- f0, f1, f2 — три признака точек;\n",
    "- product — объём запасов в скважине (тыс. баррелей)."
   ]
  },
  {
   "cell_type": "markdown",
   "id": "91d42c44",
   "metadata": {},
   "source": [
    "### Импорт библиотек"
   ]
  },
  {
   "cell_type": "code",
   "execution_count": 1,
   "id": "80947f52",
   "metadata": {},
   "outputs": [],
   "source": [
    "import pandas as pd\n",
    "import matplotlib.pyplot as plt\n",
    "import random\n",
    "import numpy as np\n",
    "from scipy import stats as st\n",
    "from sklearn.model_selection import train_test_split\n",
    "from sklearn.linear_model import LinearRegression\n",
    "from sklearn.metrics import (\n",
    "mean_squared_error,\n",
    "r2_score,\n",
    "mean_absolute_error\n",
    ")\n",
    "\n",
    "\n",
    "import warnings\n",
    "warnings.filterwarnings('ignore')"
   ]
  },
  {
   "cell_type": "markdown",
   "id": "9371016e",
   "metadata": {},
   "source": [
    "### Загрузим данные из файлов и изучим их"
   ]
  },
  {
   "cell_type": "code",
   "execution_count": 2,
   "id": "a32679e1",
   "metadata": {},
   "outputs": [],
   "source": [
    "try:\n",
    "    data_0 = pd.read_csv('/datasets/geo_data_0.csv')\n",
    "except:\n",
    "    data_0 = pd.read_csv('geo_data_0.csv')\n",
    "    \n",
    "try:\n",
    "    data_1 = pd.read_csv('/datasets/geo_data_1.csv')\n",
    "except:\n",
    "    data_1 = pd.read_csv('geo_data_1.csv')\n",
    "    \n",
    "try:\n",
    "    data_2 = pd.read_csv('/datasets/geo_data_2.csv')\n",
    "except:\n",
    "    data_2 = pd.read_csv('geo_data_2.csv')  "
   ]
  },
  {
   "cell_type": "code",
   "execution_count": 3,
   "id": "4c270fd8",
   "metadata": {},
   "outputs": [
    {
     "data": {
      "text/html": [
       "<div>\n",
       "<style scoped>\n",
       "    .dataframe tbody tr th:only-of-type {\n",
       "        vertical-align: middle;\n",
       "    }\n",
       "\n",
       "    .dataframe tbody tr th {\n",
       "        vertical-align: top;\n",
       "    }\n",
       "\n",
       "    .dataframe thead th {\n",
       "        text-align: right;\n",
       "    }\n",
       "</style>\n",
       "<table border=\"1\" class=\"dataframe\">\n",
       "  <thead>\n",
       "    <tr style=\"text-align: right;\">\n",
       "      <th></th>\n",
       "      <th>id</th>\n",
       "      <th>f0</th>\n",
       "      <th>f1</th>\n",
       "      <th>f2</th>\n",
       "      <th>product</th>\n",
       "    </tr>\n",
       "  </thead>\n",
       "  <tbody>\n",
       "    <tr>\n",
       "      <th>0</th>\n",
       "      <td>txEyH</td>\n",
       "      <td>0.705745</td>\n",
       "      <td>-0.497823</td>\n",
       "      <td>1.221170</td>\n",
       "      <td>105.280062</td>\n",
       "    </tr>\n",
       "    <tr>\n",
       "      <th>1</th>\n",
       "      <td>2acmU</td>\n",
       "      <td>1.334711</td>\n",
       "      <td>-0.340164</td>\n",
       "      <td>4.365080</td>\n",
       "      <td>73.037750</td>\n",
       "    </tr>\n",
       "    <tr>\n",
       "      <th>2</th>\n",
       "      <td>409Wp</td>\n",
       "      <td>1.022732</td>\n",
       "      <td>0.151990</td>\n",
       "      <td>1.419926</td>\n",
       "      <td>85.265647</td>\n",
       "    </tr>\n",
       "    <tr>\n",
       "      <th>3</th>\n",
       "      <td>iJLyR</td>\n",
       "      <td>-0.032172</td>\n",
       "      <td>0.139033</td>\n",
       "      <td>2.978566</td>\n",
       "      <td>168.620776</td>\n",
       "    </tr>\n",
       "    <tr>\n",
       "      <th>4</th>\n",
       "      <td>Xdl7t</td>\n",
       "      <td>1.988431</td>\n",
       "      <td>0.155413</td>\n",
       "      <td>4.751769</td>\n",
       "      <td>154.036647</td>\n",
       "    </tr>\n",
       "  </tbody>\n",
       "</table>\n",
       "</div>"
      ],
      "text/plain": [
       "      id        f0        f1        f2     product\n",
       "0  txEyH  0.705745 -0.497823  1.221170  105.280062\n",
       "1  2acmU  1.334711 -0.340164  4.365080   73.037750\n",
       "2  409Wp  1.022732  0.151990  1.419926   85.265647\n",
       "3  iJLyR -0.032172  0.139033  2.978566  168.620776\n",
       "4  Xdl7t  1.988431  0.155413  4.751769  154.036647"
      ]
     },
     "execution_count": 3,
     "metadata": {},
     "output_type": "execute_result"
    }
   ],
   "source": [
    "data_0.head()"
   ]
  },
  {
   "cell_type": "code",
   "execution_count": 4,
   "id": "f9a33dea",
   "metadata": {},
   "outputs": [
    {
     "name": "stdout",
     "output_type": "stream",
     "text": [
      "<class 'pandas.core.frame.DataFrame'>\n",
      "RangeIndex: 100000 entries, 0 to 99999\n",
      "Data columns (total 5 columns):\n",
      " #   Column   Non-Null Count   Dtype  \n",
      "---  ------   --------------   -----  \n",
      " 0   id       100000 non-null  object \n",
      " 1   f0       100000 non-null  float64\n",
      " 2   f1       100000 non-null  float64\n",
      " 3   f2       100000 non-null  float64\n",
      " 4   product  100000 non-null  float64\n",
      "dtypes: float64(4), object(1)\n",
      "memory usage: 3.8+ MB\n"
     ]
    }
   ],
   "source": [
    "data_0.info()"
   ]
  },
  {
   "cell_type": "code",
   "execution_count": 5,
   "id": "823074c7",
   "metadata": {},
   "outputs": [
    {
     "data": {
      "text/plain": [
       "0"
      ]
     },
     "execution_count": 5,
     "metadata": {},
     "output_type": "execute_result"
    }
   ],
   "source": [
    "data_0.duplicated().sum()"
   ]
  },
  {
   "cell_type": "code",
   "execution_count": 6,
   "id": "37edcc61",
   "metadata": {
    "scrolled": true
   },
   "outputs": [
    {
     "data": {
      "image/png": "[encoded data removed]",
      "text/plain": [
       "<Figure size 1500x2000 with 4 Axes>"
      ]
     },
     "metadata": {},
     "output_type": "display_data"
    }
   ],
   "source": [
    "data_0.hist(figsize=(15, 20));"
   ]
  },
  {
   "cell_type": "code",
   "execution_count": 7,
   "id": "09a10947",
   "metadata": {},
   "outputs": [
    {
     "data": {
      "text/html": [
       "<div>\n",
       "<style scoped>\n",
       "    .dataframe tbody tr th:only-of-type {\n",
       "        vertical-align: middle;\n",
       "    }\n",
       "\n",
       "    .dataframe tbody tr th {\n",
       "        vertical-align: top;\n",
       "    }\n",
       "\n",
       "    .dataframe thead th {\n",
       "        text-align: right;\n",
       "    }\n",
       "</style>\n",
       "<table border=\"1\" class=\"dataframe\">\n",
       "  <thead>\n",
       "    <tr style=\"text-align: right;\">\n",
       "      <th></th>\n",
       "      <th>id</th>\n",
       "      <th>f0</th>\n",
       "      <th>f1</th>\n",
       "      <th>f2</th>\n",
       "      <th>product</th>\n",
       "    </tr>\n",
       "  </thead>\n",
       "  <tbody>\n",
       "    <tr>\n",
       "      <th>0</th>\n",
       "      <td>kBEdx</td>\n",
       "      <td>-15.001348</td>\n",
       "      <td>-8.276000</td>\n",
       "      <td>-0.005876</td>\n",
       "      <td>3.179103</td>\n",
       "    </tr>\n",
       "    <tr>\n",
       "      <th>1</th>\n",
       "      <td>62mP7</td>\n",
       "      <td>14.272088</td>\n",
       "      <td>-3.475083</td>\n",
       "      <td>0.999183</td>\n",
       "      <td>26.953261</td>\n",
       "    </tr>\n",
       "    <tr>\n",
       "      <th>2</th>\n",
       "      <td>vyE1P</td>\n",
       "      <td>6.263187</td>\n",
       "      <td>-5.948386</td>\n",
       "      <td>5.001160</td>\n",
       "      <td>134.766305</td>\n",
       "    </tr>\n",
       "    <tr>\n",
       "      <th>3</th>\n",
       "      <td>KcrkZ</td>\n",
       "      <td>-13.081196</td>\n",
       "      <td>-11.506057</td>\n",
       "      <td>4.999415</td>\n",
       "      <td>137.945408</td>\n",
       "    </tr>\n",
       "    <tr>\n",
       "      <th>4</th>\n",
       "      <td>AHL4O</td>\n",
       "      <td>12.702195</td>\n",
       "      <td>-8.147433</td>\n",
       "      <td>5.004363</td>\n",
       "      <td>134.766305</td>\n",
       "    </tr>\n",
       "  </tbody>\n",
       "</table>\n",
       "</div>"
      ],
      "text/plain": [
       "      id         f0         f1        f2     product\n",
       "0  kBEdx -15.001348  -8.276000 -0.005876    3.179103\n",
       "1  62mP7  14.272088  -3.475083  0.999183   26.953261\n",
       "2  vyE1P   6.263187  -5.948386  5.001160  134.766305\n",
       "3  KcrkZ -13.081196 -11.506057  4.999415  137.945408\n",
       "4  AHL4O  12.702195  -8.147433  5.004363  134.766305"
      ]
     },
     "execution_count": 7,
     "metadata": {},
     "output_type": "execute_result"
    }
   ],
   "source": [
    "data_1.head()"
   ]
  },
  {
   "cell_type": "code",
   "execution_count": 8,
   "id": "20e9d71a",
   "metadata": {},
   "outputs": [
    {
     "name": "stdout",
     "output_type": "stream",
     "text": [
      "<class 'pandas.core.frame.DataFrame'>\n",
      "RangeIndex: 100000 entries, 0 to 99999\n",
      "Data columns (total 5 columns):\n",
      " #   Column   Non-Null Count   Dtype  \n",
      "---  ------   --------------   -----  \n",
      " 0   id       100000 non-null  object \n",
      " 1   f0       100000 non-null  float64\n",
      " 2   f1       100000 non-null  float64\n",
      " 3   f2       100000 non-null  float64\n",
      " 4   product  100000 non-null  float64\n",
      "dtypes: float64(4), object(1)\n",
      "memory usage: 3.8+ MB\n"
     ]
    }
   ],
   "source": [
    "data_1.info()"
   ]
  },
  {
   "cell_type": "code",
   "execution_count": 9,
   "id": "c1a806b2",
   "metadata": {},
   "outputs": [
    {
     "data": {
      "text/plain": [
       "0"
      ]
     },
     "execution_count": 9,
     "metadata": {},
     "output_type": "execute_result"
    }
   ],
   "source": [
    "data_1.duplicated().sum()"
   ]
  },
  {
   "cell_type": "code",
   "execution_count": 10,
   "id": "031719de",
   "metadata": {
    "scrolled": true
   },
   "outputs": [
    {
     "data": {
      "image/png": "[encoded data removed]",
      "text/plain": [
       "<Figure size 1500x2000 with 4 Axes>"
      ]
     },
     "metadata": {},
     "output_type": "display_data"
    }
   ],
   "source": [
    "data_1.hist(figsize=(15, 20));"
   ]
  },
  {
   "cell_type": "code",
   "execution_count": 11,
   "id": "8210f2f3",
   "metadata": {},
   "outputs": [
    {
     "data": {
      "text/html": [
       "<div>\n",
       "<style scoped>\n",
       "    .dataframe tbody tr th:only-of-type {\n",
       "        vertical-align: middle;\n",
       "    }\n",
       "\n",
       "    .dataframe tbody tr th {\n",
       "        vertical-align: top;\n",
       "    }\n",
       "\n",
       "    .dataframe thead th {\n",
       "        text-align: right;\n",
       "    }\n",
       "</style>\n",
       "<table border=\"1\" class=\"dataframe\">\n",
       "  <thead>\n",
       "    <tr style=\"text-align: right;\">\n",
       "      <th></th>\n",
       "      <th>id</th>\n",
       "      <th>f0</th>\n",
       "      <th>f1</th>\n",
       "      <th>f2</th>\n",
       "      <th>product</th>\n",
       "    </tr>\n",
       "  </thead>\n",
       "  <tbody>\n",
       "    <tr>\n",
       "      <th>0</th>\n",
       "      <td>fwXo0</td>\n",
       "      <td>-1.146987</td>\n",
       "      <td>0.963328</td>\n",
       "      <td>-0.828965</td>\n",
       "      <td>27.758673</td>\n",
       "    </tr>\n",
       "    <tr>\n",
       "      <th>1</th>\n",
       "      <td>WJtFt</td>\n",
       "      <td>0.262778</td>\n",
       "      <td>0.269839</td>\n",
       "      <td>-2.530187</td>\n",
       "      <td>56.069697</td>\n",
       "    </tr>\n",
       "    <tr>\n",
       "      <th>2</th>\n",
       "      <td>ovLUW</td>\n",
       "      <td>0.194587</td>\n",
       "      <td>0.289035</td>\n",
       "      <td>-5.586433</td>\n",
       "      <td>62.871910</td>\n",
       "    </tr>\n",
       "    <tr>\n",
       "      <th>3</th>\n",
       "      <td>q6cA6</td>\n",
       "      <td>2.236060</td>\n",
       "      <td>-0.553760</td>\n",
       "      <td>0.930038</td>\n",
       "      <td>114.572842</td>\n",
       "    </tr>\n",
       "    <tr>\n",
       "      <th>4</th>\n",
       "      <td>WPMUX</td>\n",
       "      <td>-0.515993</td>\n",
       "      <td>1.716266</td>\n",
       "      <td>5.899011</td>\n",
       "      <td>149.600746</td>\n",
       "    </tr>\n",
       "  </tbody>\n",
       "</table>\n",
       "</div>"
      ],
      "text/plain": [
       "      id        f0        f1        f2     product\n",
       "0  fwXo0 -1.146987  0.963328 -0.828965   27.758673\n",
       "1  WJtFt  0.262778  0.269839 -2.530187   56.069697\n",
       "2  ovLUW  0.194587  0.289035 -5.586433   62.871910\n",
       "3  q6cA6  2.236060 -0.553760  0.930038  114.572842\n",
       "4  WPMUX -0.515993  1.716266  5.899011  149.600746"
      ]
     },
     "execution_count": 11,
     "metadata": {},
     "output_type": "execute_result"
    }
   ],
   "source": [
    "data_2.head()"
   ]
  },
  {
   "cell_type": "code",
   "execution_count": 12,
   "id": "ebbc9030",
   "metadata": {},
   "outputs": [
    {
     "name": "stdout",
     "output_type": "stream",
     "text": [
      "<class 'pandas.core.frame.DataFrame'>\n",
      "RangeIndex: 100000 entries, 0 to 99999\n",
      "Data columns (total 5 columns):\n",
      " #   Column   Non-Null Count   Dtype  \n",
      "---  ------   --------------   -----  \n",
      " 0   id       100000 non-null  object \n",
      " 1   f0       100000 non-null  float64\n",
      " 2   f1       100000 non-null  float64\n",
      " 3   f2       100000 non-null  float64\n",
      " 4   product  100000 non-null  float64\n",
      "dtypes: float64(4), object(1)\n",
      "memory usage: 3.8+ MB\n"
     ]
    }
   ],
   "source": [
    "data_2.info()"
   ]
  },
  {
   "cell_type": "code",
   "execution_count": 13,
   "id": "b87563f3",
   "metadata": {},
   "outputs": [
    {
     "data": {
      "text/plain": [
       "0"
      ]
     },
     "execution_count": 13,
     "metadata": {},
     "output_type": "execute_result"
    }
   ],
   "source": [
    "data_2.duplicated().sum()"
   ]
  },
  {
   "cell_type": "code",
   "execution_count": 14,
   "id": "6b033929",
   "metadata": {
    "scrolled": true
   },
   "outputs": [
    {
     "data": {
      "image/png": "[encoded data removed]",
      "text/plain": [
       "<Figure size 1500x2000 with 4 Axes>"
      ]
     },
     "metadata": {},
     "output_type": "display_data"
    }
   ],
   "source": [
    "data_2.hist(figsize=(15, 20));"
   ]
  },
  {
   "cell_type": "markdown",
   "id": "0d4a23c8",
   "metadata": {},
   "source": [
    "Файлы были успешно загружены и проверены на наличие ошибок. Все три файла не имеют пропусков, дубликатов, также не имеют ошибок в типах данных. Распределение данных равномерное, без перекосов, с редкими пиками."
   ]
  },
  {
   "cell_type": "markdown",
   "id": "1f659d8d",
   "metadata": {},
   "source": [
    "**Вывод:** Таблица была доработана и подготовлена к дальнейшей работе."
   ]
  },
  {
   "cell_type": "markdown",
   "id": "af876115",
   "metadata": {},
   "source": [
    "## Обучение и проверка модели"
   ]
  },
  {
   "cell_type": "markdown",
   "id": "2aca49c8",
   "metadata": {},
   "source": [
    "### Разделение данных на признаки и целевой признак"
   ]
  },
  {
   "cell_type": "markdown",
   "id": "15a6042f",
   "metadata": {},
   "source": [
    "- **product** - целевой признак\\\n",
    "- **f0, f1, f2** - признаки"
   ]
  },
  {
   "cell_type": "code",
   "execution_count": 15,
   "id": "90109393",
   "metadata": {},
   "outputs": [],
   "source": [
    "feature_all = ['f0', 'f1', 'f2']\n",
    "target_all = ['product']"
   ]
  },
  {
   "cell_type": "code",
   "execution_count": 16,
   "id": "bc30129a",
   "metadata": {},
   "outputs": [],
   "source": [
    "feature_0 = data_0[feature_all]\n",
    "target_0 = data_0[target_all]\n",
    "feature_1 = data_1[feature_all]\n",
    "target_1 = data_1[target_all]\n",
    "feature_2 = data_2[feature_all]\n",
    "target_2 = data_2[target_all]"
   ]
  },
  {
   "cell_type": "markdown",
   "id": "7d4dae4b",
   "metadata": {},
   "source": [
    "### Разделение данных на обучающую и валидационную выборку"
   ]
  },
  {
   "cell_type": "code",
   "execution_count": 17,
   "id": "ca5bf6b7",
   "metadata": {},
   "outputs": [],
   "source": [
    "# Выборка региона 1:\n",
    "feature_0_train, feature_0_valid, target_0_train, target_0_valid = train_test_split(feature_0, target_0, test_size=0.25, random_state=12345)\n",
    "# Выборка региона 2:\n",
    "feature_1_train, feature_1_valid, target_1_train, target_1_valid = train_test_split(feature_1, target_1, test_size=0.25, random_state=12345)\n",
    "# Выборка региона 3:\n",
    "feature_2_train, feature_2_valid, target_2_train, target_2_valid = train_test_split(feature_2, target_2, test_size=0.25, random_state=12345)"
   ]
  },
  {
   "cell_type": "code",
   "execution_count": 18,
   "id": "297115a7",
   "metadata": {},
   "outputs": [
    {
     "name": "stdout",
     "output_type": "stream",
     "text": [
      "Распределение:\n",
      "Регион 1:\n",
      "feature_0_train: (75000, 3) feature_0_valid: (25000, 3)\n",
      "target_0_train: (75000, 1) target_0_valid: (25000, 1)\n",
      "/////////////////////////////////////////////////////\n",
      "Регион 2:\n",
      "feature_1_train: (75000, 3) feature_1_valid: (25000, 3)\n",
      "target_1_train: (75000, 1) target_1_valid: (25000, 1)\n",
      "/////////////////////////////////////////////////////\n",
      "Регион 3:\n",
      "feature_2_train: (75000, 3) feature_2_valid: (25000, 3)\n",
      "target_2_train: (75000, 1) target_2_valid: (25000, 1)\n"
     ]
    }
   ],
   "source": [
    "print('Распределение:')\n",
    "print('Регион 1:')\n",
    "print('feature_0_train:', feature_0_train.shape, 'feature_0_valid:', feature_0_valid.shape)\n",
    "print('target_0_train:', target_0_train.shape, 'target_0_valid:', target_0_valid.shape)\n",
    "print('/////////////////////////////////////////////////////')\n",
    "print('Регион 2:')\n",
    "print('feature_1_train:', feature_1_train.shape, 'feature_1_valid:', feature_1_valid.shape)\n",
    "print('target_1_train:', target_1_train.shape, 'target_1_valid:', target_1_valid.shape)\n",
    "print('/////////////////////////////////////////////////////')\n",
    "print('Регион 3:')\n",
    "print('feature_2_train:', feature_2_train.shape, 'feature_2_valid:', feature_2_valid.shape)\n",
    "print('target_2_train:', target_2_train.shape, 'target_2_valid:', target_2_valid.shape)"
   ]
  },
  {
   "cell_type": "markdown",
   "id": "5fa78583",
   "metadata": {},
   "source": [
    "### Обучение моделей"
   ]
  },
  {
   "cell_type": "code",
   "execution_count": 19,
   "id": "cef3b1f8",
   "metadata": {},
   "outputs": [],
   "source": [
    "# Выборка региона 1:\n",
    "model_0 = LinearRegression()\n",
    "model_0.fit(feature_0_train, target_0_train)\n",
    "predict_0 = model_0.predict(feature_0_valid)\n",
    "rmse_0 = mean_squared_error(target_0_valid, predict_0)**0.5\n",
    "r2_0 = r2_score(target_0_valid, predict_0)\n",
    "mae_0 = mean_absolute_error(target_0_valid, predict_0)\n",
    "predict_level_sum_0 = predict_0.sum().round(2)\n",
    "predict_level_mean_0 = predict_0.mean().round(2)"
   ]
  },
  {
   "cell_type": "code",
   "execution_count": 20,
   "id": "0dd44e0b",
   "metadata": {},
   "outputs": [
    {
     "name": "stdout",
     "output_type": "stream",
     "text": [
      "Метрики региона 1:\n",
      "RMSE: 37.5794217150813\n",
      "R2: 0.27994321524487786\n",
      "MAE: 30.919600777151313\n",
      "Предполагаемый уровень запасов: 2314814.19\n",
      "Среднее значение уровня запасов: 92.59\n"
     ]
    }
   ],
   "source": [
    "print('Метрики региона 1:')\n",
    "print('RMSE:', rmse_0)\n",
    "print('R2:', r2_0)\n",
    "print('MAE:', mae_0)\n",
    "print('Предполагаемый уровень запасов:', predict_level_sum_0)\n",
    "print('Среднее значение уровня запасов:', predict_level_mean_0)"
   ]
  },
  {
   "cell_type": "code",
   "execution_count": 21,
   "id": "ebaf4517",
   "metadata": {},
   "outputs": [],
   "source": [
    "# Выборка региона 2:\n",
    "model_1 = LinearRegression()\n",
    "model_1.fit(feature_1_train, target_1_train)\n",
    "predict_1 = model_1.predict(feature_1_valid)\n",
    "rmse_1 = mean_squared_error(target_1_valid, predict_1)**0.5\n",
    "r2_1 = r2_score(target_1_valid, predict_1)\n",
    "mae_1 = mean_absolute_error(target_1_valid, predict_1)\n",
    "predict_level_sum_1 = predict_1.sum().round(2)\n",
    "predict_level_mean_1 = predict_1.mean().round(2)"
   ]
  },
  {
   "cell_type": "code",
   "execution_count": 22,
   "id": "219861e9",
   "metadata": {},
   "outputs": [
    {
     "name": "stdout",
     "output_type": "stream",
     "text": [
      "Метрики региона 2:\n",
      "RMSE: 0.8930992867756168\n",
      "R2: 0.9996233978805127\n",
      "MAE: 0.7187662442124758\n",
      "Предполагаемый уровень запасов: 1718213.67\n",
      "Среднее значение уровня запасов: 68.73\n"
     ]
    }
   ],
   "source": [
    "print('Метрики региона 2:')\n",
    "print('RMSE:', rmse_1)\n",
    "print('R2:', r2_1)\n",
    "print('MAE:', mae_1)\n",
    "print('Предполагаемый уровень запасов:', predict_level_sum_1)\n",
    "print('Среднее значение уровня запасов:', predict_level_mean_1)"
   ]
  },
  {
   "cell_type": "code",
   "execution_count": 23,
   "id": "c7452827",
   "metadata": {},
   "outputs": [],
   "source": [
    "# Выборка региона 3:\n",
    "model_2 = LinearRegression()\n",
    "model_2.fit(feature_2_train, target_2_train)\n",
    "predict_2 = model_2.predict(feature_2_valid)\n",
    "rmse_2 = mean_squared_error(target_2_valid, predict_2)**0.5\n",
    "r2_2 = r2_score(target_2_valid, predict_2)\n",
    "mae_2 = mean_absolute_error(target_2_valid, predict_2)\n",
    "predict_level_sum_2 = predict_2.sum().round(2)\n",
    "predict_level_mean_2 = predict_2.mean().round(2)"
   ]
  },
  {
   "cell_type": "code",
   "execution_count": 24,
   "id": "ff56c1b8",
   "metadata": {},
   "outputs": [
    {
     "name": "stdout",
     "output_type": "stream",
     "text": [
      "Метрики региона 3:\n",
      "RMSE: 40.02970873393434\n",
      "R2: 0.20524758386040443\n",
      "MAE: 32.792652105481814\n",
      "Предполагаемый уровень запасов: 2374126.15\n",
      "Среднее значение уровня запасов: 94.97\n"
     ]
    }
   ],
   "source": [
    "print('Метрики региона 3:')\n",
    "print('RMSE:', rmse_2)\n",
    "print('R2:', r2_2)\n",
    "print('MAE:', mae_2)\n",
    "print('Предполагаемый уровень запасов:', predict_level_sum_2)\n",
    "print('Среднее значение уровня запасов:', predict_level_mean_2)"
   ]
  },
  {
   "cell_type": "markdown",
   "id": "1f3d2cc2",
   "metadata": {},
   "source": [
    "**Вывод:** Среди всех регионов, первый и третий показывают лучший вариант по предсказанному результату - **94** и **92** тысячи баррелей в среднем на точку. Второй показывает более низкие цифры - **68**. Согласно метрике **RMSE**, уровень отклонения предсказания модели составляет **37** и **40**, для первого региона и третьего соответсвенно. Это говорит в пользу первого региона. Уровень метрики **R2** у регионов примерно одинаковое, что говорить о примерно одинаковом уровня среднеквадратичной ошибки в метриках регионов. Уровень **MAE** также равен - 30 против 32 первого и третьего региона соотв.\n",
    "\n",
    "В целом, первый регион подает более оптимистичные цифры для дальнейшей работы. Несмотря на то, что третий имеет больший уровень потенциального запаса, первый более точно предсказывает его наличие в принципе."
   ]
  },
  {
   "cell_type": "markdown",
   "id": "d0f99e40",
   "metadata": {},
   "source": [
    "## Подготовка к расчёту прибыли"
   ]
  },
  {
   "cell_type": "markdown",
   "id": "bd9bc46e",
   "metadata": {},
   "source": [
    "### Подготовка расчетных переменных"
   ]
  },
  {
   "cell_type": "code",
   "execution_count": 25,
   "id": "d8102172",
   "metadata": {},
   "outputs": [],
   "source": [
    "random_points = 500\n",
    "best_points = 200\n",
    "budget = 10000000000\n",
    "profit_barrel = 450\n",
    "profit_barrel_1 = 450000\n",
    "losses = 0.025\n",
    "bootstrap = 1000\n"
   ]
  },
  {
   "cell_type": "markdown",
   "id": "3adde0f4",
   "metadata": {},
   "source": [
    "### Расчет минимального количества баррелей для безубыточной разработки."
   ]
  },
  {
   "cell_type": "markdown",
   "id": "2b622731",
   "metadata": {},
   "source": [
    "Затраты на разработку одной скважины:"
   ]
  },
  {
   "cell_type": "code",
   "execution_count": 26,
   "id": "d4a8aa8b",
   "metadata": {},
   "outputs": [],
   "source": [
    "expenses_one_well = budget / best_points"
   ]
  },
  {
   "cell_type": "markdown",
   "id": "fe40dd8e",
   "metadata": {},
   "source": [
    "Необходимое количество сырья для компенсации затрат на разработку:"
   ]
  },
  {
   "cell_type": "code",
   "execution_count": 27,
   "id": "6e37dd39",
   "metadata": {},
   "outputs": [],
   "source": [
    "number_barrels_development = expenses_one_well / profit_barrel_1"
   ]
  },
  {
   "cell_type": "code",
   "execution_count": 28,
   "id": "0bb04a7f",
   "metadata": {},
   "outputs": [
    {
     "name": "stdout",
     "output_type": "stream",
     "text": [
      "Минимальное количество сырья для компенсации разработки: 111.11111111111111\n"
     ]
    }
   ],
   "source": [
    "print('Минимальное количество сырья для компенсации разработки:', number_barrels_development)"
   ]
  },
  {
   "cell_type": "markdown",
   "id": "0a00a464",
   "metadata": {},
   "source": [
    "### Расчет прибыли с лучших 200 точек"
   ]
  },
  {
   "cell_type": "markdown",
   "id": "856d581f",
   "metadata": {},
   "source": [
    "Напишем функцию подсчета прибыли с лучших 200 точек:"
   ]
  },
  {
   "cell_type": "code",
   "execution_count": 29,
   "id": "afe8a8a8",
   "metadata": {},
   "outputs": [],
   "source": [
    "def profit(predict):\n",
    "    predict = pd.Series(*predict.reshape(1,-1))\n",
    "    predict_sort = predict.sort_values(ascending=False).head(200)\n",
    "    profit_1 = (predict_sort.sum() * profit_barrel_1) - budget\n",
    "    return profit_1"
   ]
  },
  {
   "cell_type": "code",
   "execution_count": 30,
   "id": "35547f70",
   "metadata": {},
   "outputs": [
    {
     "name": "stdout",
     "output_type": "stream",
     "text": [
      "Прибыль:\n",
      "Регион 1 3996048877.46513\n",
      "Регион 2 2485712051.973549\n",
      "Регион 3 3321754396.243252\n"
     ]
    }
   ],
   "source": [
    "print('Прибыль:')\n",
    "print('Регион 1', profit(predict_0))\n",
    "print('Регион 2', profit(predict_1))\n",
    "print('Регион 3', profit(predict_2))"
   ]
  },
  {
   "cell_type": "markdown",
   "id": "2cde44f5",
   "metadata": {},
   "source": [
    "**Вывод:** Необходимый объем сырья требующийся для окупаемости одной скважины равен 111 тысяч барелей нефти. Это на 15 - 20 тысяч больше чем могут обеспечить сами скважины по себе в среднем. Тем не менее в выборке есть точки свыше данного лимита, что говорит нам позитивная прибыль с добычи. В данных условиях разрабатывать точки составляющее подавляющее количество от общей суммы, с минимальной добычей менее 111 тысяч баррелей не целеобразно.\n",
    "\n",
    "Первый регион показывает самый высокий уровень прибыли, что делает его достаточно перспективным объектом для вложения средств. Это также подтверждает предыдущий вывод, где показатели предсказания модели также указывали на его приоритет. "
   ]
  },
  {
   "cell_type": "markdown",
   "id": "2dabb626",
   "metadata": {},
   "source": [
    "## Расчёт прибыли и рисков "
   ]
  },
  {
   "cell_type": "markdown",
   "id": "c20ca66b",
   "metadata": {},
   "source": [
    "### Расчет Bootstrap"
   ]
  },
  {
   "cell_type": "markdown",
   "id": "2a84bffa",
   "metadata": {},
   "source": [
    "**Напишем функцию расчета прибыли по Bootstrap**"
   ]
  },
  {
   "cell_type": "code",
   "execution_count": 31,
   "id": "36d646fc",
   "metadata": {},
   "outputs": [],
   "source": [
    "def profit (target, predict):\n",
    "    target_upd = pd.Series(target['product']).reset_index(drop=True)\n",
    "    predict_upd = pd.Series(*predict.reshape(1,-1))\n",
    "    for i in range(1000):\n",
    "        predict_subsample = predict_upd.reset_index(drop=True).sample(500, replace=True, random_state=state)\n",
    "        pred_choice = predict_subsample.sort_values(ascending=False)[:200]\n",
    "        probs_subsample = target_upd[pred_choice.index]\n",
    "        profit = (probs_subsample.sum() * profit_barrel_1) - budget\n",
    "        values.append(profit)\n",
    "    return values    "
   ]
  },
  {
   "cell_type": "markdown",
   "id": "98e16ead",
   "metadata": {},
   "source": [
    "**Bootstrap первого региона:**"
   ]
  },
  {
   "cell_type": "code",
   "execution_count": 32,
   "id": "97a5f528",
   "metadata": {},
   "outputs": [],
   "source": [
    "state = np.random.RandomState(12345)\n",
    "percent_0 = 0\n",
    "values = []"
   ]
  },
  {
   "cell_type": "code",
   "execution_count": 33,
   "id": "52d529f9",
   "metadata": {},
   "outputs": [],
   "source": [
    "profit_0 = profit(target_0_valid, predict_0)"
   ]
  },
  {
   "cell_type": "code",
   "execution_count": 34,
   "id": "3b5103ad",
   "metadata": {},
   "outputs": [],
   "source": [
    "values_0 = pd.Series(values)\n",
    "values_0 = values_0.mean()"
   ]
  },
  {
   "cell_type": "code",
   "execution_count": 35,
   "id": "189a6cb6",
   "metadata": {},
   "outputs": [],
   "source": [
    "for i in values:\n",
    "    if i < 0:\n",
    "        percent_0 +=1\n",
    "percent_00 = (percent_0 / 1000) * 100"
   ]
  },
  {
   "cell_type": "code",
   "execution_count": 36,
   "id": "49843af0",
   "metadata": {},
   "outputs": [],
   "source": [
    "values_quantile_0 = pd.Series(values) \n",
    "lower_0 = values_quantile_0.quantile(0.025) \n",
    "upper_0 = values_quantile_0.quantile(0.975)\n",
    "lower_upper_0 = (lower_0 + upper_0) / 2"
   ]
  },
  {
   "cell_type": "code",
   "execution_count": 37,
   "id": "6f7c17ff",
   "metadata": {},
   "outputs": [
    {
     "name": "stdout",
     "output_type": "stream",
     "text": [
      "Регион 1:\n",
      "Средняя прибыль: 396.164984802371 млн. рублей\n",
      "Риск убытков: 6.9 %\n",
      "Доверительный интервал 0.025%: -111.21554589049525\n",
      "Доверительный интервал 0.975%: 909.7669415534226\n",
      "Доверительный интервал 95%: 399.2756978314636\n"
     ]
    }
   ],
   "source": [
    "print('Регион 1:')\n",
    "print('Средняя прибыль:', values_0 / 1000000, 'млн. рублей')\n",
    "print('Риск убытков:', percent_00,'%')\n",
    "print('Доверительный интервал 0.025%:', lower_0 / 1000000)\n",
    "print('Доверительный интервал 0.975%:', upper_0 / 1000000)\n",
    "print('Доверительный интервал 95%:', lower_upper_0 / 1000000)"
   ]
  },
  {
   "cell_type": "markdown",
   "id": "3d7fcd1f",
   "metadata": {},
   "source": [
    "**Bootstrap второго региона:**"
   ]
  },
  {
   "cell_type": "code",
   "execution_count": 38,
   "id": "ce8db8da",
   "metadata": {},
   "outputs": [],
   "source": [
    "percent_1 = 0\n",
    "values = []"
   ]
  },
  {
   "cell_type": "code",
   "execution_count": 39,
   "id": "28ecdfa7",
   "metadata": {},
   "outputs": [],
   "source": [
    "profit_1 = profit(target_1_valid, predict_1)"
   ]
  },
  {
   "cell_type": "code",
   "execution_count": 40,
   "id": "e5a82d85",
   "metadata": {},
   "outputs": [],
   "source": [
    "values_1 = pd.Series(values)\n",
    "values_1 = values_1.mean()"
   ]
  },
  {
   "cell_type": "code",
   "execution_count": 41,
   "id": "a7ca9fc6",
   "metadata": {},
   "outputs": [],
   "source": [
    "for i in values:\n",
    "    if i < 0:\n",
    "        percent_1 +=1\n",
    "percent_11 = (percent_1 / 1000) * 100"
   ]
  },
  {
   "cell_type": "code",
   "execution_count": 42,
   "id": "6778f002",
   "metadata": {},
   "outputs": [],
   "source": [
    "values_quantile_1 = pd.Series(values) \n",
    "lower_1 = values_quantile_1.quantile(0.025) \n",
    "upper_1 = values_quantile_1.quantile(0.975)\n",
    "lower_upper_1 = (lower_1 + upper_1) / 2"
   ]
  },
  {
   "cell_type": "code",
   "execution_count": 43,
   "id": "d5645146",
   "metadata": {},
   "outputs": [
    {
     "name": "stdout",
     "output_type": "stream",
     "text": [
      "Регион 2:\n",
      "Средняя прибыль: 461.15581727723986 млн. рублей\n",
      "Риск убытков: 0.7000000000000001 %\n",
      "Доверительный интервал 0.025%: 78.05081075174171\n",
      "Доверительный интервал 0.975%: 862.9520602637234\n",
      "Доверительный интервал 95%: 470.50143550773254\n"
     ]
    }
   ],
   "source": [
    "print('Регион 2:')\n",
    "print('Средняя прибыль:', values_1 / 1000000, 'млн. рублей')\n",
    "print('Риск убытков:', percent_11,'%')\n",
    "print('Доверительный интервал 0.025%:', lower_1 / 1000000)\n",
    "print('Доверительный интервал 0.975%:', upper_1 / 1000000)\n",
    "print('Доверительный интервал 95%:', lower_upper_1 / 1000000)"
   ]
  },
  {
   "cell_type": "markdown",
   "id": "878dc1a7",
   "metadata": {},
   "source": [
    "**Bootstrap третьего региона:**"
   ]
  },
  {
   "cell_type": "code",
   "execution_count": 44,
   "id": "0ec806d9",
   "metadata": {},
   "outputs": [],
   "source": [
    "percent_2 = 0\n",
    "values = []"
   ]
  },
  {
   "cell_type": "code",
   "execution_count": 45,
   "id": "1356028e",
   "metadata": {},
   "outputs": [],
   "source": [
    "profit_2 = profit(target_2_valid, predict_2)"
   ]
  },
  {
   "cell_type": "code",
   "execution_count": 46,
   "id": "88eaee33",
   "metadata": {},
   "outputs": [],
   "source": [
    "values_2 = pd.Series(values)\n",
    "values_2 = values_2.mean()"
   ]
  },
  {
   "cell_type": "code",
   "execution_count": 47,
   "id": "f6be9654",
   "metadata": {},
   "outputs": [],
   "source": [
    "for i in values:\n",
    "    if i < 0:\n",
    "        percent_2 +=1\n",
    "percent_22 = (percent_2 / 1000) * 100"
   ]
  },
  {
   "cell_type": "code",
   "execution_count": 48,
   "id": "113d2eae",
   "metadata": {},
   "outputs": [],
   "source": [
    "values_quantile_2 = pd.Series(values) \n",
    "lower_2 = values_quantile_2.quantile(0.025) \n",
    "upper_2 = values_quantile_2.quantile(0.975)\n",
    "lower_upper_2 = (lower_2 + upper_2) / 2"
   ]
  },
  {
   "cell_type": "code",
   "execution_count": 49,
   "id": "04ab567e",
   "metadata": {},
   "outputs": [
    {
     "name": "stdout",
     "output_type": "stream",
     "text": [
      "Регион 3:\n",
      "Средняя прибыль: 392.95047517060374 млн. рублей\n",
      "Риск убытков: 6.5 %\n",
      "Доверительный интервал 0.025%: -112.22762537857565\n",
      "Доверительный интервал 0.975%: 934.5629145511635\n",
      "Доверительный интервал 95%: 411.16764458629393\n"
     ]
    }
   ],
   "source": [
    "print('Регион 3:')\n",
    "print('Средняя прибыль:', values_2 / 1000000, 'млн. рублей')\n",
    "print('Риск убытков:', percent_22,'%')\n",
    "print('Доверительный интервал 0.025%:', lower_2 / 1000000)\n",
    "print('Доверительный интервал 0.975%:', upper_2 / 1000000)\n",
    "print('Доверительный интервал 95%:', lower_upper_2 / 1000000)"
   ]
  },
  {
   "cell_type": "markdown",
   "id": "74cef5c8",
   "metadata": {},
   "source": [
    "**Вывод:** Рассчитав Bootstrap выяснили, что самый высокий показатель средней прибыли мы можем получить во втором регионе - **461 млн. рублей**. Ранее расчитав в данном регионе прибыль с 200 самых лучших точек, был получен более низкий результат - **248 млн. рублей**. Второе и третье место занял первый и третий регионы, с показателем средней прибыли равной: **396 млн. рублей** и **395 млн. рублей** соответственно.\n",
    "\n",
    "Изначально, момент работы моделей, первый регион показал более оптимистичные цифры с уровнем **RMSE = 37** и предполагаемым средним уровнем запасов **92 тысячи баррель.** Что выгодно отличало его на фоне других регионов, где потенциал был значительно меньше. Также сама модель получилась наиболее точной, что позволяет предположить о действительном наличии потенциала в регионе. \n",
    "Также стоить упомянуть уровень рисков в первом регионе - **6,9%**, что в совокупности оптимистичной модели, мы можем предполагать о реалистичности полученных рисков.\n",
    "\n",
    "Самым оптимальным вариантом для нас выглядит второй регион, так как его разработка имеет минимальные риски, самую большую среднюю прибыль, и приемлемый уровень доверительного интервала, где самая нижняя планка остается в плюсе.\n",
    "\n",
    "Единственный момент, который заставляет сомневаться во втором регионе - это самый низкий уровень потенциала, относительно остальных: 69 тысяч баррель, против 93 и 95 на точку. Значения средние и имеет место разброс, но так или иначе в целом второй регион менее богат, но его прибыльнее разрабатывать. "
   ]
  },
  {
   "cell_type": "markdown",
   "id": "a1054ec6",
   "metadata": {},
   "source": [
    "## Чек-лист готовности проекта"
   ]
  },
  {
   "cell_type": "markdown",
   "id": "f515b6b9",
   "metadata": {},
   "source": [
    "Поставьте 'x' в выполненных пунктах. Далее нажмите Shift+Enter."
   ]
  },
  {
   "cell_type": "markdown",
   "id": "a3a61843",
   "metadata": {},
   "source": [
    "- [x]  Jupyter Notebook открыт\n",
    "- [x]  Весь код выполняется без ошибок\n",
    "- [x]  Ячейки с кодом расположены в порядке исполнения\n",
    "- [x]  Выполнен шаг 1: данные подготовлены\n",
    "- [x]  Выполнен шаг 2: модели обучены и проверены\n",
    "    - [x]  Данные корректно разбиты на обучающую и валидационную выборки\n",
    "    - [x]  Модели обучены, предсказания сделаны\n",
    "    - [x]  Предсказания и правильные ответы на валидационной выборке сохранены\n",
    "    - [x]  На экране напечатаны результаты\n",
    "    - [x]  Сделаны выводы\n",
    "- [x]  Выполнен шаг 3: проведена подготовка к расчёту прибыли\n",
    "    - [x]  Для всех ключевых значений созданы константы Python\n",
    "    - [x]  Посчитано минимальное среднее количество продукта в месторождениях региона, достаточное для разработки\n",
    "    - [x]  По предыдущему пункту сделаны выводы\n",
    "    - [x]  Написана функция расчёта прибыли\n",
    "- [x]  Выполнен шаг 4: посчитаны риски и прибыль\n",
    "    - [x]  Проведена процедура *Bootstrap*\n",
    "    - [x]  Все параметры бутстрепа соответствуют условию\n",
    "    - [x]  Найдены все нужные величины\n",
    "    - [x]  Предложен регион для разработки месторождения\n",
    "    - [x]  Выбор региона обоснован"
   ]
  },
  {
   "cell_type": "code",
   "execution_count": null,
   "id": "33e8d4ec",
   "metadata": {},
   "outputs": [],
   "source": []
  }
 ],
 "metadata": {
  "kernelspec": {
   "display_name": "Python 3 (ipykernel)",
   "language": "python",
   "name": "python3"
  },
  "language_info": {
   "codemirror_mode": {
    "name": "ipython",
    "version": 3
   },
   "file_extension": ".py",
   "mimetype": "text/x-python",
   "name": "python",
   "nbconvert_exporter": "python",
   "pygments_lexer": "ipython3",
   "version": "3.9.13"
  },
  "toc": {
   "base_numbering": 1,
   "nav_menu": {},
   "number_sections": true,
   "sideBar": true,
   "skip_h1_title": true,
   "title_cell": "Table of Contents",
   "title_sidebar": "Contents",
   "toc_cell": true,
   "toc_position": {},
   "toc_section_display": true,
   "toc_window_display": false
  }
 },
 "nbformat": 4,
 "nbformat_minor": 5
}
