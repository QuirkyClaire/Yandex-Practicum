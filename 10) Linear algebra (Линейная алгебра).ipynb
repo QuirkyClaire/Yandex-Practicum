{
 "cells": [
  {
   "cell_type": "markdown",
   "id": "61bed742",
   "metadata": {
    "toc": true
   },
   "source": [
    "<h1>Table of Contents<span class=\"tocSkip\"></span></h1>\n",
    "<div class=\"toc\"><ul class=\"toc-item\"><li><span><a href=\"#Загрузка-данных\" data-toc-modified-id=\"Загрузка-данных-1\"><span class=\"toc-item-num\">1&nbsp;&nbsp;</span>Загрузка данных</a></span><ul class=\"toc-item\"><li><span><a href=\"#Импорт-библиотек\" data-toc-modified-id=\"Импорт-библиотек-1.1\"><span class=\"toc-item-num\">1.1&nbsp;&nbsp;</span>Импорт библиотек</a></span></li><li><span><a href=\"#Загрузка-данных\" data-toc-modified-id=\"Загрузка-данных-1.2\"><span class=\"toc-item-num\">1.2&nbsp;&nbsp;</span>Загрузка данных</a></span></li><li><span><a href=\"#Обзор-загруженных-данных\" data-toc-modified-id=\"Обзор-загруженных-данных-1.3\"><span class=\"toc-item-num\">1.3&nbsp;&nbsp;</span>Обзор загруженных данных</a></span></li></ul></li><li><span><a href=\"#Умножение-матриц\" data-toc-modified-id=\"Умножение-матриц-2\"><span class=\"toc-item-num\">2&nbsp;&nbsp;</span>Умножение матриц</a></span></li><li><span><a href=\"#Алгоритм-преобразования\" data-toc-modified-id=\"Алгоритм-преобразования-3\"><span class=\"toc-item-num\">3&nbsp;&nbsp;</span>Алгоритм преобразования</a></span></li><li><span><a href=\"#Проверка-алгоритма\" data-toc-modified-id=\"Проверка-алгоритма-4\"><span class=\"toc-item-num\">4&nbsp;&nbsp;</span>Проверка алгоритма</a></span><ul class=\"toc-item\"><li><span><a href=\"#Создадим-признаки:\" data-toc-modified-id=\"Создадим-признаки:-4.1\"><span class=\"toc-item-num\">4.1&nbsp;&nbsp;</span>Создадим признаки:</a></span></li><li><span><a href=\"#Построим-модель-для-исходных-данных:\" data-toc-modified-id=\"Построим-модель-для-исходных-данных:-4.2\"><span class=\"toc-item-num\">4.2&nbsp;&nbsp;</span>Построим модель для исходных данных:</a></span></li><li><span><a href=\"#Создадим-новую-матрицу:\" data-toc-modified-id=\"Создадим-новую-матрицу:-4.3\"><span class=\"toc-item-num\">4.3&nbsp;&nbsp;</span>Создадим новую матрицу:</a></span></li><li><span><a href=\"#Умножим-исходную-матрицу-на-полученную-обратную:\" data-toc-modified-id=\"Умножим-исходную-матрицу-на-полученную-обратную:-4.4\"><span class=\"toc-item-num\">4.4&nbsp;&nbsp;</span>Умножим исходную матрицу на полученную обратную:</a></span></li><li><span><a href=\"#Построим-новую-модель-и-определим-ее-качество:\" data-toc-modified-id=\"Построим-новую-модель-и-определим-ее-качество:-4.5\"><span class=\"toc-item-num\">4.5&nbsp;&nbsp;</span>Построим новую модель и определим ее качество:</a></span></li></ul></li><li><span><a href=\"#Чек-лист-проверки\" data-toc-modified-id=\"Чек-лист-проверки-5\"><span class=\"toc-item-num\">5&nbsp;&nbsp;</span>Чек-лист проверки</a></span></li></ul></div>"
   ]
  },
  {
   "cell_type": "markdown",
   "id": "21d5a53f",
   "metadata": {},
   "source": [
    "# Защита персональных данных клиентов"
   ]
  },
  {
   "cell_type": "markdown",
   "id": "a00008c7",
   "metadata": {},
   "source": [
    "Вам нужно защитить данные клиентов страховой компании «Хоть потоп». Разработайте такой метод преобразования данных, чтобы по ним было сложно восстановить персональную информацию. Обоснуйте корректность его работы.\n",
    "\n",
    "Нужно защитить данные, чтобы при преобразовании качество моделей машинного обучения не ухудшилось. Подбирать наилучшую модель не требуется."
   ]
  },
  {
   "cell_type": "markdown",
   "id": "f2c873da",
   "metadata": {},
   "source": [
    "## Загрузка данных"
   ]
  },
  {
   "cell_type": "markdown",
   "id": "078acd54",
   "metadata": {},
   "source": [
    "### Импорт библиотек"
   ]
  },
  {
   "cell_type": "code",
   "execution_count": 1,
   "id": "2940aedb",
   "metadata": {},
   "outputs": [],
   "source": [
    "import pandas as pd\n",
    "import numpy as np\n",
    "from sklearn.metrics import r2_score\n",
    "from sklearn.linear_model import LinearRegression"
   ]
  },
  {
   "cell_type": "markdown",
   "id": "10c178af",
   "metadata": {},
   "source": [
    "### Загрузка данных"
   ]
  },
  {
   "cell_type": "code",
   "execution_count": 2,
   "id": "18ededd1",
   "metadata": {},
   "outputs": [],
   "source": [
    "try:\n",
    "    data = pd.read_csv('/datasets/insurance.csv')\n",
    "except:\n",
    "    data = pd.read_csv('insurance.csv')"
   ]
  },
  {
   "cell_type": "markdown",
   "id": "f13913af",
   "metadata": {},
   "source": [
    "### Обзор загруженных данных"
   ]
  },
  {
   "cell_type": "code",
   "execution_count": 3,
   "id": "5eadc65f",
   "metadata": {},
   "outputs": [],
   "source": [
    "def data_check (data_file):\n",
    "    display(data_file.head())\n",
    "    data_file.info()\n",
    "    print('Количество пропусков', data_file.isna().sum().sum())\n",
    "    print('Количество дубликатов:', sum(data_file.duplicated()))\n",
    "    return "
   ]
  },
  {
   "cell_type": "code",
   "execution_count": 4,
   "id": "0fee5581",
   "metadata": {},
   "outputs": [
    {
     "data": {
      "text/html": [
       "<div>\n",
       "<style scoped>\n",
       "    .dataframe tbody tr th:only-of-type {\n",
       "        vertical-align: middle;\n",
       "    }\n",
       "\n",
       "    .dataframe tbody tr th {\n",
       "        vertical-align: top;\n",
       "    }\n",
       "\n",
       "    .dataframe thead th {\n",
       "        text-align: right;\n",
       "    }\n",
       "</style>\n",
       "<table border=\"1\" class=\"dataframe\">\n",
       "  <thead>\n",
       "    <tr style=\"text-align: right;\">\n",
       "      <th></th>\n",
       "      <th>Пол</th>\n",
       "      <th>Возраст</th>\n",
       "      <th>Зарплата</th>\n",
       "      <th>Члены семьи</th>\n",
       "      <th>Страховые выплаты</th>\n",
       "    </tr>\n",
       "  </thead>\n",
       "  <tbody>\n",
       "    <tr>\n",
       "      <th>0</th>\n",
       "      <td>1</td>\n",
       "      <td>41.0</td>\n",
       "      <td>49600.0</td>\n",
       "      <td>1</td>\n",
       "      <td>0</td>\n",
       "    </tr>\n",
       "    <tr>\n",
       "      <th>1</th>\n",
       "      <td>0</td>\n",
       "      <td>46.0</td>\n",
       "      <td>38000.0</td>\n",
       "      <td>1</td>\n",
       "      <td>1</td>\n",
       "    </tr>\n",
       "    <tr>\n",
       "      <th>2</th>\n",
       "      <td>0</td>\n",
       "      <td>29.0</td>\n",
       "      <td>21000.0</td>\n",
       "      <td>0</td>\n",
       "      <td>0</td>\n",
       "    </tr>\n",
       "    <tr>\n",
       "      <th>3</th>\n",
       "      <td>0</td>\n",
       "      <td>21.0</td>\n",
       "      <td>41700.0</td>\n",
       "      <td>2</td>\n",
       "      <td>0</td>\n",
       "    </tr>\n",
       "    <tr>\n",
       "      <th>4</th>\n",
       "      <td>1</td>\n",
       "      <td>28.0</td>\n",
       "      <td>26100.0</td>\n",
       "      <td>0</td>\n",
       "      <td>0</td>\n",
       "    </tr>\n",
       "  </tbody>\n",
       "</table>\n",
       "</div>"
      ],
      "text/plain": [
       "   Пол  Возраст  Зарплата  Члены семьи  Страховые выплаты\n",
       "0    1     41.0   49600.0            1                  0\n",
       "1    0     46.0   38000.0            1                  1\n",
       "2    0     29.0   21000.0            0                  0\n",
       "3    0     21.0   41700.0            2                  0\n",
       "4    1     28.0   26100.0            0                  0"
      ]
     },
     "metadata": {},
     "output_type": "display_data"
    },
    {
     "name": "stdout",
     "output_type": "stream",
     "text": [
      "<class 'pandas.core.frame.DataFrame'>\n",
      "RangeIndex: 5000 entries, 0 to 4999\n",
      "Data columns (total 5 columns):\n",
      " #   Column             Non-Null Count  Dtype  \n",
      "---  ------             --------------  -----  \n",
      " 0   Пол                5000 non-null   int64  \n",
      " 1   Возраст            5000 non-null   float64\n",
      " 2   Зарплата           5000 non-null   float64\n",
      " 3   Члены семьи        5000 non-null   int64  \n",
      " 4   Страховые выплаты  5000 non-null   int64  \n",
      "dtypes: float64(2), int64(3)\n",
      "memory usage: 195.4 KB\n",
      "Количество пропусков 0\n",
      "Количество дубликатов: 153\n"
     ]
    }
   ],
   "source": [
    "data_check(data)"
   ]
  },
  {
   "cell_type": "markdown",
   "id": "29dcabb1",
   "metadata": {},
   "source": [
    "**Удалим дубликаты в таблице:**"
   ]
  },
  {
   "cell_type": "code",
   "execution_count": 5,
   "id": "dc459f6e",
   "metadata": {},
   "outputs": [],
   "source": [
    "data.drop_duplicates(inplace=True)"
   ]
  },
  {
   "cell_type": "markdown",
   "id": "526e6734",
   "metadata": {},
   "source": [
    "**Изменим тип данных возраста:**"
   ]
  },
  {
   "cell_type": "code",
   "execution_count": 6,
   "id": "3cc5776a",
   "metadata": {},
   "outputs": [],
   "source": [
    "data['Возраст'] = data['Возраст'].astype('int64')"
   ]
  },
  {
   "cell_type": "code",
   "execution_count": 7,
   "id": "67b714c0",
   "metadata": {},
   "outputs": [
    {
     "data": {
      "text/html": [
       "<div>\n",
       "<style scoped>\n",
       "    .dataframe tbody tr th:only-of-type {\n",
       "        vertical-align: middle;\n",
       "    }\n",
       "\n",
       "    .dataframe tbody tr th {\n",
       "        vertical-align: top;\n",
       "    }\n",
       "\n",
       "    .dataframe thead th {\n",
       "        text-align: right;\n",
       "    }\n",
       "</style>\n",
       "<table border=\"1\" class=\"dataframe\">\n",
       "  <thead>\n",
       "    <tr style=\"text-align: right;\">\n",
       "      <th></th>\n",
       "      <th>Пол</th>\n",
       "      <th>Возраст</th>\n",
       "      <th>Зарплата</th>\n",
       "      <th>Члены семьи</th>\n",
       "      <th>Страховые выплаты</th>\n",
       "    </tr>\n",
       "  </thead>\n",
       "  <tbody>\n",
       "    <tr>\n",
       "      <th>0</th>\n",
       "      <td>1</td>\n",
       "      <td>41</td>\n",
       "      <td>49600.0</td>\n",
       "      <td>1</td>\n",
       "      <td>0</td>\n",
       "    </tr>\n",
       "    <tr>\n",
       "      <th>1</th>\n",
       "      <td>0</td>\n",
       "      <td>46</td>\n",
       "      <td>38000.0</td>\n",
       "      <td>1</td>\n",
       "      <td>1</td>\n",
       "    </tr>\n",
       "    <tr>\n",
       "      <th>2</th>\n",
       "      <td>0</td>\n",
       "      <td>29</td>\n",
       "      <td>21000.0</td>\n",
       "      <td>0</td>\n",
       "      <td>0</td>\n",
       "    </tr>\n",
       "    <tr>\n",
       "      <th>3</th>\n",
       "      <td>0</td>\n",
       "      <td>21</td>\n",
       "      <td>41700.0</td>\n",
       "      <td>2</td>\n",
       "      <td>0</td>\n",
       "    </tr>\n",
       "    <tr>\n",
       "      <th>4</th>\n",
       "      <td>1</td>\n",
       "      <td>28</td>\n",
       "      <td>26100.0</td>\n",
       "      <td>0</td>\n",
       "      <td>0</td>\n",
       "    </tr>\n",
       "  </tbody>\n",
       "</table>\n",
       "</div>"
      ],
      "text/plain": [
       "   Пол  Возраст  Зарплата  Члены семьи  Страховые выплаты\n",
       "0    1       41   49600.0            1                  0\n",
       "1    0       46   38000.0            1                  1\n",
       "2    0       29   21000.0            0                  0\n",
       "3    0       21   41700.0            2                  0\n",
       "4    1       28   26100.0            0                  0"
      ]
     },
     "metadata": {},
     "output_type": "display_data"
    },
    {
     "name": "stdout",
     "output_type": "stream",
     "text": [
      "<class 'pandas.core.frame.DataFrame'>\n",
      "Int64Index: 4847 entries, 0 to 4999\n",
      "Data columns (total 5 columns):\n",
      " #   Column             Non-Null Count  Dtype  \n",
      "---  ------             --------------  -----  \n",
      " 0   Пол                4847 non-null   int64  \n",
      " 1   Возраст            4847 non-null   int64  \n",
      " 2   Зарплата           4847 non-null   float64\n",
      " 3   Члены семьи        4847 non-null   int64  \n",
      " 4   Страховые выплаты  4847 non-null   int64  \n",
      "dtypes: float64(1), int64(4)\n",
      "memory usage: 227.2 KB\n",
      "Количество пропусков 0\n",
      "Количество дубликатов: 0\n"
     ]
    }
   ],
   "source": [
    "data_check(data)"
   ]
  },
  {
   "cell_type": "markdown",
   "id": "ea39a266",
   "metadata": {},
   "source": [
    "**Вывод:**\n",
    "\n",
    "- Пропусков в данных нет;\n",
    "- Тип данных столбца \"Возраст\" был изменен на int64, так как возраст не имеет десятичных значений;\n",
    "- Были найдены и удалены дубликаты."
   ]
  },
  {
   "cell_type": "markdown",
   "id": "3490532d",
   "metadata": {},
   "source": [
    "## Умножение матриц"
   ]
  },
  {
   "cell_type": "markdown",
   "id": "c0fe63a0",
   "metadata": {},
   "source": [
    "В этом задании вы можете записывать формулы в *Jupyter Notebook.*\n",
    "\n",
    "Чтобы записать формулу внутри текста, окружите её символами доллара \\\\$; если снаружи —  двойными символами \\\\$\\\\$. Эти формулы записываются на языке вёрстки *LaTeX.* \n",
    "\n",
    "Для примера мы записали формулы линейной регрессии. Можете их скопировать и отредактировать, чтобы решить задачу.\n",
    "\n",
    "Работать в *LaTeX* необязательно."
   ]
  },
  {
   "cell_type": "markdown",
   "id": "150fd6c2",
   "metadata": {},
   "source": [
    "Обозначения:\n",
    "\n",
    "- $X$ — матрица признаков (нулевой столбец состоит из единиц)\n",
    "\n",
    "- $y$ — вектор целевого признака\n",
    "\n",
    "- $P$ — матрица, на которую умножаются признаки\n",
    "\n",
    "- $w$ — вектор весов линейной регрессии (нулевой элемент равен сдвигу)"
   ]
  },
  {
   "cell_type": "markdown",
   "id": "536925a1",
   "metadata": {},
   "source": [
    "Предсказания:\n",
    "\n",
    "$$\n",
    "a = Xw\n",
    "$$\n",
    "\n",
    "Задача обучения:\n",
    "\n",
    "$$\n",
    "w = \\arg\\min_w MSE(Xw, y)\n",
    "$$\n",
    "\n",
    "Формула обучения:\n",
    "\n",
    "$$\n",
    "w = (X^T X)^{-1} X^T y\n",
    "$$"
   ]
  },
  {
   "cell_type": "markdown",
   "id": "78b1e3f9",
   "metadata": {},
   "source": [
    "**Ответ:** При умножении признаков на обратимую матрицу, качество линейной регрессии не изменится:\n",
    "\n",
    "**Обоснование:** \n",
    "\n",
    "1) Для определения качества мы должны получить новую матрицу X1 умножением на исходной на обратимую матрицу P:"
   ]
  },
  {
   "cell_type": "markdown",
   "id": "8d068d66",
   "metadata": {},
   "source": [
    "$X1 = X * P$"
   ]
  },
  {
   "cell_type": "markdown",
   "id": "58e7f447",
   "metadata": {},
   "source": [
    "2) Согласное формуле обучения, мы можем построить аналогичную формулу для новой матрицы:"
   ]
  },
  {
   "cell_type": "markdown",
   "id": "a3fd7f2e",
   "metadata": {},
   "source": [
    "$w1 = ((XP)^TXP)^{-1}(XP)^Ty$"
   ]
  },
  {
   "cell_type": "markdown",
   "id": "a62d3ad3",
   "metadata": {},
   "source": [
    "3) Раскроем скобки выражения:"
   ]
  },
  {
   "cell_type": "markdown",
   "id": "b86d50a7",
   "metadata": {},
   "source": [
    "$w1 = (P^TX^TXP)^{-1}P^TX^Ty$"
   ]
  },
  {
   "cell_type": "markdown",
   "id": "f6c114f6",
   "metadata": {},
   "source": [
    "$w1 = P^{-1}(X^TX)^{-1}(P^T)^{-1}P^TX^Ty$"
   ]
  },
  {
   "cell_type": "markdown",
   "id": "558bf8a5",
   "metadata": {},
   "source": [
    "4) $(P^T)^{-1}P^T$ - равнозначно единичной матрице E, так как P обратима, то:"
   ]
  },
  {
   "cell_type": "markdown",
   "id": "cd638b07",
   "metadata": {},
   "source": [
    "$w1 = P^{-1}(X^TX)^{-1}EX^Ty = P^{-1}(X^TX)^{-1}X^Ty$"
   ]
  },
  {
   "cell_type": "markdown",
   "id": "a40ca809",
   "metadata": {},
   "source": [
    "5) Имея формулу обучения $w = (X^TX)^{-1}X^Ty$ мы получим формулу для w1: "
   ]
  },
  {
   "cell_type": "markdown",
   "id": "1295aeed",
   "metadata": {},
   "source": [
    "$w1 = P^{-1}(X^TX)^{-1}X^Ty = P^{-1}w$"
   ]
  },
  {
   "cell_type": "markdown",
   "id": "a3f2a52d",
   "metadata": {},
   "source": [
    "6) Напишем аналогичную формулу предсказания для а1:"
   ]
  },
  {
   "cell_type": "markdown",
   "id": "1ae4d933",
   "metadata": {},
   "source": [
    "$a1 = X1w1 - XPP^{-1}w$"
   ]
  },
  {
   "cell_type": "markdown",
   "id": "d628b72b",
   "metadata": {},
   "source": [
    "7) Так как у нас обратная матрица, то $PP^{-1}$ равна Е:"
   ]
  },
  {
   "cell_type": "markdown",
   "id": "de1dd3d8",
   "metadata": {},
   "source": [
    "$a1 = XPP^{-1}w = XEw = Xw$"
   ]
  },
  {
   "cell_type": "markdown",
   "id": "a57a6b70",
   "metadata": {},
   "source": [
    "8) $Xw = a$, значит $a1 = a$"
   ]
  },
  {
   "cell_type": "markdown",
   "id": "7f350717",
   "metadata": {},
   "source": [
    "## Алгоритм преобразования"
   ]
  },
  {
   "cell_type": "markdown",
   "id": "a9ec4e8e",
   "metadata": {},
   "source": [
    "**Алгоритм**\n",
    "\n",
    "Для решения задания, нужно сделать следующие шаги:\n",
    "\n",
    "- Нужно сформировать матрицу признаков и сгенерировать другую со схожими параметрами\n",
    "- Умножить матрицы друг на друга\n",
    "- Рассчитать качества модели матриц как исходной, так и полученной."
   ]
  },
  {
   "cell_type": "markdown",
   "id": "c728be11",
   "metadata": {},
   "source": [
    "**Обоснование**\n",
    "\n",
    "Согласно второму пункту, предсказания на исходной и изначальной матрице не должны отличаться, как и значение качества. Рассчитаем метрику R2 для матриц."
   ]
  },
  {
   "cell_type": "markdown",
   "id": "5ee9b04d",
   "metadata": {},
   "source": [
    "## Проверка алгоритма"
   ]
  },
  {
   "cell_type": "markdown",
   "id": "bc900f26",
   "metadata": {},
   "source": [
    "### Создадим признаки:"
   ]
  },
  {
   "cell_type": "code",
   "execution_count": 8,
   "id": "07ccacb4",
   "metadata": {},
   "outputs": [],
   "source": [
    "features = data.drop('Страховые выплаты', axis=1)\n",
    "target = data['Страховые выплаты']"
   ]
  },
  {
   "cell_type": "markdown",
   "id": "03bd5c0c",
   "metadata": {},
   "source": [
    "### Построим модель для исходных данных:"
   ]
  },
  {
   "cell_type": "code",
   "execution_count": 9,
   "id": "a07218d5",
   "metadata": {},
   "outputs": [
    {
     "name": "stdout",
     "output_type": "stream",
     "text": [
      "Метрика R2 0.4302010044852067\n"
     ]
    }
   ],
   "source": [
    "model = LinearRegression()\n",
    "model.fit(features, target)\n",
    "predictions = model.predict(features)\n",
    "r2 = r2_score(target, predictions)\n",
    "print('Метрика R2', r2)"
   ]
  },
  {
   "cell_type": "markdown",
   "id": "6416004b",
   "metadata": {},
   "source": [
    "### Создадим новую матрицу:"
   ]
  },
  {
   "cell_type": "code",
   "execution_count": 10,
   "id": "1781171b",
   "metadata": {},
   "outputs": [],
   "source": [
    "matrix_new = np.random.normal(size=(4,4))"
   ]
  },
  {
   "cell_type": "code",
   "execution_count": 11,
   "id": "24fbd84c",
   "metadata": {},
   "outputs": [
    {
     "data": {
      "text/plain": [
       "array([[-0.10030522,  0.21635855,  0.02178968,  1.13043353],\n",
       "       [ 0.462702  ,  0.74649116,  0.76678113,  0.75838139],\n",
       "       [-0.10542058,  1.60035983, -0.08222651,  0.40758256],\n",
       "       [ 0.67276187, -0.64296001,  0.97437401,  0.33042514]])"
      ]
     },
     "execution_count": 11,
     "metadata": {},
     "output_type": "execute_result"
    }
   ],
   "source": [
    "matrix_new"
   ]
  },
  {
   "cell_type": "markdown",
   "id": "81ac500e",
   "metadata": {},
   "source": [
    "**Обратим матрицу для дальнейшей работы:**"
   ]
  },
  {
   "cell_type": "code",
   "execution_count": 12,
   "id": "516cc58e",
   "metadata": {},
   "outputs": [],
   "source": [
    "matrix_inv = np.linalg.inv(matrix_new)"
   ]
  },
  {
   "cell_type": "code",
   "execution_count": 13,
   "id": "4533ccc3",
   "metadata": {},
   "outputs": [
    {
     "data": {
      "text/plain": [
       "array([[ 11.05688096, -80.35397432,  63.44311251,  68.34099643],\n",
       "       [ -0.23645071,  -0.21619978,   0.85721498,   0.24776512],\n",
       "       [ -8.49387006,  58.12193864, -45.38906778, -48.35300511],\n",
       "       [  2.07469059,  -8.20889081,   6.340243  ,   6.94861694]])"
      ]
     },
     "execution_count": 13,
     "metadata": {},
     "output_type": "execute_result"
    }
   ],
   "source": [
    "matrix_inv"
   ]
  },
  {
   "cell_type": "markdown",
   "id": "ec927e0d",
   "metadata": {},
   "source": [
    "### Умножим исходную матрицу на полученную обратную:"
   ]
  },
  {
   "cell_type": "markdown",
   "id": "0b59e3af",
   "metadata": {},
   "source": [
    "**Конвертируем исходные данные в матрицу:**"
   ]
  },
  {
   "cell_type": "code",
   "execution_count": 14,
   "id": "629b424a",
   "metadata": {},
   "outputs": [],
   "source": [
    "matrix = features.values"
   ]
  },
  {
   "cell_type": "code",
   "execution_count": 15,
   "id": "6ade9d52",
   "metadata": {},
   "outputs": [
    {
     "data": {
      "text/plain": [
       "array([[1.00e+00, 4.10e+01, 4.96e+04, 1.00e+00],\n",
       "       [0.00e+00, 4.60e+01, 3.80e+04, 1.00e+00],\n",
       "       [0.00e+00, 2.90e+01, 2.10e+04, 0.00e+00],\n",
       "       ...,\n",
       "       [0.00e+00, 2.00e+01, 3.39e+04, 2.00e+00],\n",
       "       [1.00e+00, 2.20e+01, 3.27e+04, 3.00e+00],\n",
       "       [1.00e+00, 2.80e+01, 4.06e+04, 1.00e+00]])"
      ]
     },
     "execution_count": 15,
     "metadata": {},
     "output_type": "execute_result"
    }
   ],
   "source": [
    "matrix"
   ]
  },
  {
   "cell_type": "markdown",
   "id": "e9fb22e7",
   "metadata": {},
   "source": [
    "**Умножим матрицы:**"
   ]
  },
  {
   "cell_type": "code",
   "execution_count": 16,
   "id": "cc6d6828",
   "metadata": {},
   "outputs": [],
   "source": [
    "matrix_result = matrix @ matrix_inv"
   ]
  },
  {
   "cell_type": "markdown",
   "id": "a95ba290",
   "metadata": {},
   "source": [
    "**Сформируем таблицу из полученной матрицы:**"
   ]
  },
  {
   "cell_type": "code",
   "execution_count": 17,
   "id": "29282ee8",
   "metadata": {},
   "outputs": [],
   "source": [
    "features_result = pd.DataFrame(matrix_result, columns=features.columns)"
   ]
  },
  {
   "cell_type": "code",
   "execution_count": 18,
   "id": "cd10ba21",
   "metadata": {},
   "outputs": [
    {
     "data": {
      "text/html": [
       "<div>\n",
       "<style scoped>\n",
       "    .dataframe tbody tr th:only-of-type {\n",
       "        vertical-align: middle;\n",
       "    }\n",
       "\n",
       "    .dataframe tbody tr th {\n",
       "        vertical-align: top;\n",
       "    }\n",
       "\n",
       "    .dataframe thead th {\n",
       "        text-align: right;\n",
       "    }\n",
       "</style>\n",
       "<table border=\"1\" class=\"dataframe\">\n",
       "  <thead>\n",
       "    <tr style=\"text-align: right;\">\n",
       "      <th></th>\n",
       "      <th>Пол</th>\n",
       "      <th>Возраст</th>\n",
       "      <th>Зарплата</th>\n",
       "      <th>Члены семьи</th>\n",
       "    </tr>\n",
       "  </thead>\n",
       "  <tbody>\n",
       "    <tr>\n",
       "      <th>0</th>\n",
       "      <td>-421292.518013</td>\n",
       "      <td>2.882751e+06</td>\n",
       "      <td>-2.251193e+06</td>\n",
       "      <td>-2.398224e+06</td>\n",
       "    </tr>\n",
       "    <tr>\n",
       "      <th>1</th>\n",
       "      <td>-322775.864421</td>\n",
       "      <td>2.208616e+06</td>\n",
       "      <td>-1.724739e+06</td>\n",
       "      <td>-1.837396e+06</td>\n",
       "    </tr>\n",
       "    <tr>\n",
       "      <th>2</th>\n",
       "      <td>-178378.128385</td>\n",
       "      <td>1.220554e+06</td>\n",
       "      <td>-9.531456e+05</td>\n",
       "      <td>-1.015406e+06</td>\n",
       "    </tr>\n",
       "    <tr>\n",
       "      <th>3</th>\n",
       "      <td>-354195.197695</td>\n",
       "      <td>2.423664e+06</td>\n",
       "      <td>-1.892693e+06</td>\n",
       "      <td>-2.016301e+06</td>\n",
       "    </tr>\n",
       "    <tr>\n",
       "      <th>4</th>\n",
       "      <td>-221685.572373</td>\n",
       "      <td>1.516896e+06</td>\n",
       "      <td>-1.184567e+06</td>\n",
       "      <td>-1.261938e+06</td>\n",
       "    </tr>\n",
       "  </tbody>\n",
       "</table>\n",
       "</div>"
      ],
      "text/plain": [
       "             Пол       Возраст      Зарплата   Члены семьи\n",
       "0 -421292.518013  2.882751e+06 -2.251193e+06 -2.398224e+06\n",
       "1 -322775.864421  2.208616e+06 -1.724739e+06 -1.837396e+06\n",
       "2 -178378.128385  1.220554e+06 -9.531456e+05 -1.015406e+06\n",
       "3 -354195.197695  2.423664e+06 -1.892693e+06 -2.016301e+06\n",
       "4 -221685.572373  1.516896e+06 -1.184567e+06 -1.261938e+06"
      ]
     },
     "execution_count": 18,
     "metadata": {},
     "output_type": "execute_result"
    }
   ],
   "source": [
    "features_result.head()"
   ]
  },
  {
   "cell_type": "markdown",
   "id": "4b3eafea",
   "metadata": {},
   "source": [
    "### Построим новую модель и определим ее качество:"
   ]
  },
  {
   "cell_type": "code",
   "execution_count": 19,
   "id": "02d68c66",
   "metadata": {},
   "outputs": [
    {
     "name": "stdout",
     "output_type": "stream",
     "text": [
      "Метрика R2 0.4302010044850163\n"
     ]
    }
   ],
   "source": [
    "model = LinearRegression()\n",
    "model.fit(features_result, target)\n",
    "predictions = model.predict(features_result)\n",
    "r2 = r2_score(target, predictions)\n",
    "print('Метрика R2', r2)"
   ]
  },
  {
   "cell_type": "markdown",
   "id": "afeddc61",
   "metadata": {},
   "source": [
    "**Вывод:** Метрики качества обеих моделей одинаковые, значит умножение на случайную матрицу может служить методом защиты данных пользователей."
   ]
  },
  {
   "cell_type": "markdown",
   "id": "417360fe",
   "metadata": {},
   "source": [
    "## Чек-лист проверки"
   ]
  },
  {
   "cell_type": "markdown",
   "id": "e740acc9",
   "metadata": {},
   "source": [
    "Поставьте 'x' в выполненных пунктах. Далее нажмите Shift+Enter."
   ]
  },
  {
   "cell_type": "markdown",
   "id": "a0b2cc90",
   "metadata": {},
   "source": [
    "- [x]  Jupyter Notebook открыт\n",
    "- [x]  Весь код выполняется без ошибок\n",
    "- [x]  Ячейки с кодом расположены в порядке исполнения\n",
    "- [x]  Выполнен шаг 1: данные загружены\n",
    "- [x]  Выполнен шаг 2: получен ответ на вопрос об умножении матриц\n",
    "    - [x]  Указан правильный вариант ответа\n",
    "    - [x]  Вариант обоснован\n",
    "- [x]  Выполнен шаг 3: предложен алгоритм преобразования\n",
    "    - [x]  Алгоритм описан\n",
    "    - [x]  Алгоритм обоснован\n",
    "- [x]  Выполнен шаг 4: алгоритм проверен\n",
    "    - [x]  Алгоритм реализован\n",
    "    - [x]  Проведено сравнение качества моделей до и после преобразования"
   ]
  },
  {
   "cell_type": "code",
   "execution_count": null,
   "id": "c8089866",
   "metadata": {},
   "outputs": [],
   "source": []
  },
  {
   "cell_type": "code",
   "execution_count": null,
   "id": "eb1aa78e",
   "metadata": {},
   "outputs": [],
   "source": []
  },
  {
   "cell_type": "code",
   "execution_count": null,
   "id": "aa1f8707",
   "metadata": {},
   "outputs": [],
   "source": []
  }
 ],
 "metadata": {
  "kernelspec": {
   "display_name": "Python 3 (ipykernel)",
   "language": "python",
   "name": "python3"
  },
  "language_info": {
   "codemirror_mode": {
    "name": "ipython",
    "version": 3
   },
   "file_extension": ".py",
   "mimetype": "text/x-python",
   "name": "python",
   "nbconvert_exporter": "python",
   "pygments_lexer": "ipython3",
   "version": "3.9.13"
  },
  "toc": {
   "base_numbering": 1,
   "nav_menu": {},
   "number_sections": true,
   "sideBar": true,
   "skip_h1_title": true,
   "title_cell": "Table of Contents",
   "title_sidebar": "Contents",
   "toc_cell": true,
   "toc_position": {},
   "toc_section_display": true,
   "toc_window_display": false
  }
 },
 "nbformat": 4,
 "nbformat_minor": 5
}
