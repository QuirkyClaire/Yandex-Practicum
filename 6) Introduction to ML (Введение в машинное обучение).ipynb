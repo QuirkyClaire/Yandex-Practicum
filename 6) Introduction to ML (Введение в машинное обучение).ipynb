{
 "cells": [
  {
   "cell_type": "markdown",
   "id": "61bed742",
   "metadata": {
    "toc": true
   },
   "source": [
    "<h1>Table of Contents<span class=\"tocSkip\"></span></h1>\n",
    "<div class=\"toc\"><ul class=\"toc-item\"><li><span><a href=\"#Откройте-и-изучите-файл\" data-toc-modified-id=\"Откройте-и-изучите-файл-1\"><span class=\"toc-item-num\">1&nbsp;&nbsp;</span>Откройте и изучите файл</a></span><ul class=\"toc-item\"><li><span><a href=\"#Импорт-библиотек\" data-toc-modified-id=\"Импорт-библиотек-1.1\"><span class=\"toc-item-num\">1.1&nbsp;&nbsp;</span>Импорт библиотек</a></span></li><li><span><a href=\"#Загрузим-данные-из-файла-и-изучим-их.\" data-toc-modified-id=\"Загрузим-данные-из-файла-и-изучим-их.-1.2\"><span class=\"toc-item-num\">1.2&nbsp;&nbsp;</span>Загрузим данные из файла и изучим их.</a></span></li></ul></li><li><span><a href=\"#Разбейте-данные-на-выборки\" data-toc-modified-id=\"Разбейте-данные-на-выборки-2\"><span class=\"toc-item-num\">2&nbsp;&nbsp;</span>Разбейте данные на выборки</a></span></li><li><span><a href=\"#Исследуйте-модели\" data-toc-modified-id=\"Исследуйте-модели-3\"><span class=\"toc-item-num\">3&nbsp;&nbsp;</span>Исследуйте модели</a></span><ul class=\"toc-item\"><li><span><a href=\"#Модель-решающего-дерева\" data-toc-modified-id=\"Модель-решающего-дерева-3.1\"><span class=\"toc-item-num\">3.1&nbsp;&nbsp;</span>Модель решающего дерева</a></span></li><li><span><a href=\"#Модель-случайного-леса\" data-toc-modified-id=\"Модель-случайного-леса-3.2\"><span class=\"toc-item-num\">3.2&nbsp;&nbsp;</span>Модель случайного леса</a></span></li><li><span><a href=\"#Модель-логической-регрессии\" data-toc-modified-id=\"Модель-логической-регрессии-3.3\"><span class=\"toc-item-num\">3.3&nbsp;&nbsp;</span>Модель логической регрессии</a></span></li></ul></li><li><span><a href=\"#Проверьте-модель-на-тестовой-выборке\" data-toc-modified-id=\"Проверьте-модель-на-тестовой-выборке-4\"><span class=\"toc-item-num\">4&nbsp;&nbsp;</span>Проверьте модель на тестовой выборке</a></span></li><li><span><a href=\"#(бонус)-Проверьте-модели-на-адекватность\" data-toc-modified-id=\"(бонус)-Проверьте-модели-на-адекватность-5\"><span class=\"toc-item-num\">5&nbsp;&nbsp;</span>(бонус) Проверьте модели на адекватность</a></span></li><li><span><a href=\"#Чек-лист-готовности-проекта\" data-toc-modified-id=\"Чек-лист-готовности-проекта-6\"><span class=\"toc-item-num\">6&nbsp;&nbsp;</span>Чек-лист готовности проекта</a></span></li></ul></div>"
   ]
  },
  {
   "cell_type": "markdown",
   "id": "fe32ee2d",
   "metadata": {},
   "source": [
    "# Рекомендация тарифов"
   ]
  },
  {
   "cell_type": "markdown",
   "id": "1b9b9281",
   "metadata": {},
   "source": [
    "В вашем распоряжении данные о поведении клиентов, которые уже перешли на эти тарифы (из проекта курса «Статистический анализ данных»). Нужно построить модель для задачи классификации, которая выберет подходящий тариф. Предобработка данных не понадобится — вы её уже сделали.\n",
    "\n",
    "Постройте модель с максимально большим значением *accuracy*. Чтобы сдать проект успешно, нужно довести долю правильных ответов по крайней мере до 0.75. Проверьте *accuracy* на тестовой выборке самостоятельно."
   ]
  },
  {
   "cell_type": "markdown",
   "id": "a3d4d99e",
   "metadata": {},
   "source": [
    "## Откройте и изучите файл"
   ]
  },
  {
   "cell_type": "markdown",
   "id": "d57dc450",
   "metadata": {},
   "source": [
    "**Описание данных:**\n",
    "\n",
    "Каждый объект в наборе данных — это информация о поведении одного пользователя за месяц.\\\n",
    "Известно:\n",
    "- **сalls** — количество звонков;\n",
    "- **minutes** — суммарная длительность звонков в минутах;\n",
    "- **messages** — количество sms-сообщений;\n",
    "- **mb_used** — израсходованный интернет-трафик в Мб;\n",
    "- **is_ultra** — каким тарифом пользовался в течение месяца («Ультра» — 1, «Смарт» — 0)."
   ]
  },
  {
   "cell_type": "markdown",
   "id": "58bd4976",
   "metadata": {},
   "source": [
    "### Импорт библиотек"
   ]
  },
  {
   "cell_type": "code",
   "execution_count": 1,
   "id": "f8e3afeb",
   "metadata": {},
   "outputs": [],
   "source": [
    "import pandas as pd\n",
    "import matplotlib.pyplot as plt\n",
    "from sklearn.model_selection import train_test_split\n",
    "from sklearn.tree import DecisionTreeClassifier\n",
    "from sklearn.linear_model import LogisticRegression\n",
    "from sklearn.ensemble import RandomForestClassifier\n",
    "from sklearn.metrics import accuracy_score\n",
    "from sklearn.metrics import mean_squared_error\n",
    "from tqdm import tqdm\n",
    "import matplotlib.pyplot as plt\n",
    "import numpy as np\n",
    "from sklearn.metrics import accuracy_score\n"
   ]
  },
  {
   "cell_type": "markdown",
   "id": "26dd446b",
   "metadata": {},
   "source": [
    "### Загрузим данные из файла и изучим их."
   ]
  },
  {
   "cell_type": "code",
   "execution_count": 2,
   "id": "a689cc37",
   "metadata": {},
   "outputs": [],
   "source": [
    "try:\n",
    "    data = pd.read_csv('/datasets/users_behavior.csv')\n",
    "except:\n",
    "    data = pd.read_csv('users_behavior.csv')"
   ]
  },
  {
   "cell_type": "code",
   "execution_count": 3,
   "id": "83de345b",
   "metadata": {},
   "outputs": [
    {
     "data": {
      "text/html": [
       "<div>\n",
       "<style scoped>\n",
       "    .dataframe tbody tr th:only-of-type {\n",
       "        vertical-align: middle;\n",
       "    }\n",
       "\n",
       "    .dataframe tbody tr th {\n",
       "        vertical-align: top;\n",
       "    }\n",
       "\n",
       "    .dataframe thead th {\n",
       "        text-align: right;\n",
       "    }\n",
       "</style>\n",
       "<table border=\"1\" class=\"dataframe\">\n",
       "  <thead>\n",
       "    <tr style=\"text-align: right;\">\n",
       "      <th></th>\n",
       "      <th>calls</th>\n",
       "      <th>minutes</th>\n",
       "      <th>messages</th>\n",
       "      <th>mb_used</th>\n",
       "      <th>is_ultra</th>\n",
       "    </tr>\n",
       "  </thead>\n",
       "  <tbody>\n",
       "    <tr>\n",
       "      <th>0</th>\n",
       "      <td>40.0</td>\n",
       "      <td>311.90</td>\n",
       "      <td>83.0</td>\n",
       "      <td>19915.42</td>\n",
       "      <td>0</td>\n",
       "    </tr>\n",
       "    <tr>\n",
       "      <th>1</th>\n",
       "      <td>85.0</td>\n",
       "      <td>516.75</td>\n",
       "      <td>56.0</td>\n",
       "      <td>22696.96</td>\n",
       "      <td>0</td>\n",
       "    </tr>\n",
       "    <tr>\n",
       "      <th>2</th>\n",
       "      <td>77.0</td>\n",
       "      <td>467.66</td>\n",
       "      <td>86.0</td>\n",
       "      <td>21060.45</td>\n",
       "      <td>0</td>\n",
       "    </tr>\n",
       "    <tr>\n",
       "      <th>3</th>\n",
       "      <td>106.0</td>\n",
       "      <td>745.53</td>\n",
       "      <td>81.0</td>\n",
       "      <td>8437.39</td>\n",
       "      <td>1</td>\n",
       "    </tr>\n",
       "    <tr>\n",
       "      <th>4</th>\n",
       "      <td>66.0</td>\n",
       "      <td>418.74</td>\n",
       "      <td>1.0</td>\n",
       "      <td>14502.75</td>\n",
       "      <td>0</td>\n",
       "    </tr>\n",
       "  </tbody>\n",
       "</table>\n",
       "</div>"
      ],
      "text/plain": [
       "   calls  minutes  messages   mb_used  is_ultra\n",
       "0   40.0   311.90      83.0  19915.42         0\n",
       "1   85.0   516.75      56.0  22696.96         0\n",
       "2   77.0   467.66      86.0  21060.45         0\n",
       "3  106.0   745.53      81.0   8437.39         1\n",
       "4   66.0   418.74       1.0  14502.75         0"
      ]
     },
     "execution_count": 3,
     "metadata": {},
     "output_type": "execute_result"
    }
   ],
   "source": [
    "data.head()"
   ]
  },
  {
   "cell_type": "markdown",
   "id": "fb94029b",
   "metadata": {},
   "source": [
    "Мы наблюдаем небольшую таблицу с малым количеством столбцов. Проверим нет ли проблем с ней в целом:"
   ]
  },
  {
   "cell_type": "code",
   "execution_count": 4,
   "id": "66ffcd1c",
   "metadata": {},
   "outputs": [
    {
     "name": "stdout",
     "output_type": "stream",
     "text": [
      "<class 'pandas.core.frame.DataFrame'>\n",
      "RangeIndex: 3214 entries, 0 to 3213\n",
      "Data columns (total 5 columns):\n",
      " #   Column    Non-Null Count  Dtype  \n",
      "---  ------    --------------  -----  \n",
      " 0   calls     3214 non-null   float64\n",
      " 1   minutes   3214 non-null   float64\n",
      " 2   messages  3214 non-null   float64\n",
      " 3   mb_used   3214 non-null   float64\n",
      " 4   is_ultra  3214 non-null   int64  \n",
      "dtypes: float64(4), int64(1)\n",
      "memory usage: 125.7 KB\n"
     ]
    }
   ],
   "source": [
    "data.info()"
   ]
  },
  {
   "cell_type": "code",
   "execution_count": 5,
   "id": "cce2b404",
   "metadata": {},
   "outputs": [
    {
     "data": {
      "text/plain": [
       "0"
      ]
     },
     "execution_count": 5,
     "metadata": {},
     "output_type": "execute_result"
    }
   ],
   "source": [
    "data.duplicated().sum()"
   ]
  },
  {
   "cell_type": "markdown",
   "id": "08d4b038",
   "metadata": {},
   "source": [
    "**Вывод:** Таблица не имеет пропусков или дублирующих записей. Единственный смущающий момент - это типы данных в столбцах calls и messages, так как количество звонков и сообщений не может быть дробным. Их можно было бы перевести в int, но нет уверенности что для текущей задачи это нужно."
   ]
  },
  {
   "cell_type": "code",
   "execution_count": 6,
   "id": "7ee793c8",
   "metadata": {},
   "outputs": [
    {
     "data": {
      "image/png": "[encoded data removed]",
      "text/plain": [
       "<Figure size 1500x2000 with 6 Axes>"
      ]
     },
     "metadata": {},
     "output_type": "display_data"
    }
   ],
   "source": [
    "data.hist(figsize=(15, 20));"
   ]
  },
  {
   "cell_type": "markdown",
   "id": "35a0295d",
   "metadata": {},
   "source": [
    "Мы наблюдаем большой перекос в данных в левую сторону, что дает повод предположить о неравномерности выборки. Особенно ярко это выражается в столбцах messages и ключевой is_ultra."
   ]
  },
  {
   "cell_type": "code",
   "execution_count": 7,
   "id": "ba2a3bbf",
   "metadata": {},
   "outputs": [
    {
     "data": {
      "text/html": [
       "<div>\n",
       "<style scoped>\n",
       "    .dataframe tbody tr th:only-of-type {\n",
       "        vertical-align: middle;\n",
       "    }\n",
       "\n",
       "    .dataframe tbody tr th {\n",
       "        vertical-align: top;\n",
       "    }\n",
       "\n",
       "    .dataframe thead th {\n",
       "        text-align: right;\n",
       "    }\n",
       "</style>\n",
       "<table border=\"1\" class=\"dataframe\">\n",
       "  <thead>\n",
       "    <tr style=\"text-align: right;\">\n",
       "      <th></th>\n",
       "      <th></th>\n",
       "      <th>calls</th>\n",
       "      <th>minutes</th>\n",
       "      <th>messages</th>\n",
       "      <th>mb_used</th>\n",
       "    </tr>\n",
       "    <tr>\n",
       "      <th>is_ultra</th>\n",
       "      <th></th>\n",
       "      <th></th>\n",
       "      <th></th>\n",
       "      <th></th>\n",
       "      <th></th>\n",
       "    </tr>\n",
       "  </thead>\n",
       "  <tbody>\n",
       "    <tr>\n",
       "      <th rowspan=\"4\" valign=\"top\">0</th>\n",
       "      <th>calls</th>\n",
       "      <td>1.000000</td>\n",
       "      <td>0.972654</td>\n",
       "      <td>0.208789</td>\n",
       "      <td>0.357349</td>\n",
       "    </tr>\n",
       "    <tr>\n",
       "      <th>minutes</th>\n",
       "      <td>0.972654</td>\n",
       "      <td>1.000000</td>\n",
       "      <td>0.203746</td>\n",
       "      <td>0.341639</td>\n",
       "    </tr>\n",
       "    <tr>\n",
       "      <th>messages</th>\n",
       "      <td>0.208789</td>\n",
       "      <td>0.203746</td>\n",
       "      <td>1.000000</td>\n",
       "      <td>0.146499</td>\n",
       "    </tr>\n",
       "    <tr>\n",
       "      <th>mb_used</th>\n",
       "      <td>0.357349</td>\n",
       "      <td>0.341639</td>\n",
       "      <td>0.146499</td>\n",
       "      <td>1.000000</td>\n",
       "    </tr>\n",
       "    <tr>\n",
       "      <th rowspan=\"4\" valign=\"top\">1</th>\n",
       "      <th>calls</th>\n",
       "      <td>1.000000</td>\n",
       "      <td>0.988235</td>\n",
       "      <td>0.087691</td>\n",
       "      <td>0.176856</td>\n",
       "    </tr>\n",
       "    <tr>\n",
       "      <th>minutes</th>\n",
       "      <td>0.988235</td>\n",
       "      <td>1.000000</td>\n",
       "      <td>0.083000</td>\n",
       "      <td>0.178003</td>\n",
       "    </tr>\n",
       "    <tr>\n",
       "      <th>messages</th>\n",
       "      <td>0.087691</td>\n",
       "      <td>0.083000</td>\n",
       "      <td>1.000000</td>\n",
       "      <td>0.173710</td>\n",
       "    </tr>\n",
       "    <tr>\n",
       "      <th>mb_used</th>\n",
       "      <td>0.176856</td>\n",
       "      <td>0.178003</td>\n",
       "      <td>0.173710</td>\n",
       "      <td>1.000000</td>\n",
       "    </tr>\n",
       "  </tbody>\n",
       "</table>\n",
       "</div>"
      ],
      "text/plain": [
       "                      calls   minutes  messages   mb_used\n",
       "is_ultra                                                 \n",
       "0        calls     1.000000  0.972654  0.208789  0.357349\n",
       "         minutes   0.972654  1.000000  0.203746  0.341639\n",
       "         messages  0.208789  0.203746  1.000000  0.146499\n",
       "         mb_used   0.357349  0.341639  0.146499  1.000000\n",
       "1        calls     1.000000  0.988235  0.087691  0.176856\n",
       "         minutes   0.988235  1.000000  0.083000  0.178003\n",
       "         messages  0.087691  0.083000  1.000000  0.173710\n",
       "         mb_used   0.176856  0.178003  0.173710  1.000000"
      ]
     },
     "execution_count": 7,
     "metadata": {},
     "output_type": "execute_result"
    }
   ],
   "source": [
    "data.groupby(['is_ultra'])[['calls','minutes', 'messages', 'mb_used']].agg('corr')"
   ]
  },
  {
   "cell_type": "markdown",
   "id": "1c45d542",
   "metadata": {},
   "source": [
    "Можно наблюдать самый высокий уровень корреляции равный от 0.97 до 0.98 между минутами и наличием пакета ультра. Остальные же признаки почти не влияют на таргет столбец. "
   ]
  },
  {
   "cell_type": "markdown",
   "id": "a06416de",
   "metadata": {},
   "source": [
    "## Разбейте данные на выборки"
   ]
  },
  {
   "cell_type": "markdown",
   "id": "bc1ad572",
   "metadata": {},
   "source": [
    "По условиям задания, нам нужно проанализировать поведение клиентов, и предложить тарифный план. В данном случае данные в столбце is_ultra будут ключевыми. Остальные же столбики будут признаками.\n",
    "\n",
    "**target** - is_ultra\\\n",
    "**features** - calls, minutes, messages, mb_used."
   ]
  },
  {
   "cell_type": "code",
   "execution_count": 8,
   "id": "0984806f",
   "metadata": {},
   "outputs": [],
   "source": [
    "features = data.drop('is_ultra', axis=1)\n",
    "target = data['is_ultra']"
   ]
  },
  {
   "cell_type": "markdown",
   "id": "0cc8b685",
   "metadata": {},
   "source": [
    "Разобъем выборку на тестовую, валидационную и обучающую."
   ]
  },
  {
   "cell_type": "code",
   "execution_count": 9,
   "id": "5ef8ee99",
   "metadata": {},
   "outputs": [],
   "source": [
    "features, features_test, target, target_test = train_test_split(features, target, test_size=0.25, random_state=12345, stratify=target)\n",
    "features_train, features_valid, target_train, target_valid = train_test_split(features, target, test_size=0.2, random_state=12345)"
   ]
  },
  {
   "cell_type": "markdown",
   "id": "57c4fe3c",
   "metadata": {},
   "source": [
    "## Исследуйте модели"
   ]
  },
  {
   "cell_type": "markdown",
   "id": "a07001f5",
   "metadata": {},
   "source": [
    "### Модель решающего дерева"
   ]
  },
  {
   "cell_type": "markdown",
   "id": "ba01cd12",
   "metadata": {},
   "source": [
    "Построим модель решающего дерева и исследуем его качество. Возьмем для работы гиперпараметры max_depth, min_samples_split и min_samples_leaf."
   ]
  },
  {
   "cell_type": "code",
   "execution_count": 10,
   "id": "41241c30",
   "metadata": {},
   "outputs": [
    {
     "name": "stdout",
     "output_type": "stream",
     "text": [
      "Точность модели: 0.7904564315352697\n",
      "Гиперпараметры модели:\n",
      "max_depth: 3\n",
      "min_samples_split: 2\n",
      "min_samples_leaf: 2\n"
     ]
    }
   ],
   "source": [
    "best_accuracy = 0\n",
    "for max_depth in range(2, 6):\n",
    "    for min_samples_split in range(2, 6):\n",
    "        for min_samples_leaf in range(2, 6):\n",
    "            model_tree = DecisionTreeClassifier(random_state=12345, max_depth=max_depth, min_samples_split=min_samples_split, min_samples_leaf=min_samples_leaf)\n",
    "            model_tree.fit(features_train, target_train)\n",
    "            predictions_valid_tree = model_tree.predict(features_valid)\n",
    "            result_tree = accuracy_score(target_valid, predictions_valid_tree)\n",
    "            if result_tree > best_accuracy:\n",
    "                best_parameter = [max_depth, min_samples_split, min_samples_leaf]\n",
    "                best_accuracy = result_tree\n",
    "best_accuracy_tree = best_accuracy                \n",
    "print('Точность модели:', best_accuracy) \n",
    "print('Гиперпараметры модели:')\n",
    "print('max_depth:', best_parameter[0]) \n",
    "print('min_samples_split:', best_parameter[1])\n",
    "print('min_samples_leaf:', best_parameter[2])           "
   ]
  },
  {
   "cell_type": "code",
   "execution_count": 11,
   "id": "f91c5263",
   "metadata": {},
   "outputs": [
    {
     "data": {
      "image/png": "[encoded data removed]",
      "text/plain": [
       "<Figure size 1000x700 with 1 Axes>"
      ]
     },
     "metadata": {},
     "output_type": "display_data"
    }
   ],
   "source": [
    "acc_valid = [] # сюда записывается accuracy по валидационной\n",
    "acc_train = [] # сюда записывается accuracy по обучающей\n",
    "\n",
    "depth_ = 20\n",
    "\n",
    "for depth in range(1, depth_):\n",
    "    model_tree = DecisionTreeClassifier(random_state=12345, max_depth=depth)\n",
    "    model_tree.fit(features_train, target_train)\n",
    "    \n",
    "    predictions_valid = model_tree.predict(features_valid)\n",
    "    predictions_train = model_tree.predict(features_train)\n",
    "    \n",
    "#     собираем результаты в списки\n",
    "    acc_valid.append(accuracy_score(target_valid, predictions_valid))   \n",
    "    acc_train.append(accuracy_score(target_train, predictions_train))   \n",
    "    \n",
    "    \n",
    "fig, ax = plt.subplots(figsize = (10, 7))\n",
    "fig.suptitle('')\n",
    "\n",
    "# строи по спискам графики\n",
    "ax.plot(np.arange(1, depth_), acc_valid, )\n",
    "ax.plot(np.arange(1, depth_), acc_train)\n",
    "\n",
    "ax.set_xlabel('Глубина дерева')\n",
    "ax.set_ylabel('Accuracy')\n",
    "\n",
    "ax.legend(['Точность предсказаний на валидационной выборке', 'Точность предсказаний на обучающей выборке'])\n",
    "\n",
    "plt.ylim(0.7, 1);  "
   ]
  },
  {
   "cell_type": "markdown",
   "id": "029f9f2c",
   "metadata": {},
   "source": [
    "### Модель случайного леса"
   ]
  },
  {
   "cell_type": "markdown",
   "id": "a56f8651",
   "metadata": {},
   "source": [
    "Построим модель случайного леса и исследуем его качество. Возьмем для работы гиперпараметры max_depth, min_samples_split,min_samples_leaf и n_estimators."
   ]
  },
  {
   "cell_type": "code",
   "execution_count": 12,
   "id": "9f3603a1",
   "metadata": {},
   "outputs": [
    {
     "name": "stderr",
     "output_type": "stream",
     "text": [
      "100%|██████████| 9/9 [00:05<00:00,  1.75it/s]"
     ]
    },
    {
     "name": "stdout",
     "output_type": "stream",
     "text": [
      "Точность модели: 0.8008298755186722\n",
      "Гиперпараметры модели:\n",
      "max_depth: 5\n",
      "n_estimators: 9\n",
      "min_samples_split: 2\n",
      "min_samples_leaf: 5\n"
     ]
    },
    {
     "name": "stderr",
     "output_type": "stream",
     "text": [
      "\n"
     ]
    }
   ],
   "source": [
    "best_accuracy = 0\n",
    "for n_estimators in tqdm(range(1, 10)):\n",
    "    for max_depth in range(2, 6):\n",
    "        for min_samples_split in range(2, 6):\n",
    "            for min_samples_leaf in range(2, 6):\n",
    "                model_forest = RandomForestClassifier(random_state=12345, n_estimators=n_estimators, max_depth=max_depth, min_samples_split=min_samples_split, min_samples_leaf=min_samples_leaf)\n",
    "                model_forest.fit(features_train, target_train)\n",
    "                predictions_valid_forest = model_forest.predict(features_valid)\n",
    "                result_forest = accuracy_score(target_valid, predictions_valid_forest)\n",
    "                if result_forest > best_accuracy:\n",
    "                    best_parameter = [max_depth, n_estimators, min_samples_split, min_samples_leaf]\n",
    "                    best_accuracy = result_forest\n",
    "best_accuracy_forest = best_accuracy                    \n",
    "print('Точность модели:', best_accuracy) \n",
    "print('Гиперпараметры модели:')\n",
    "print('max_depth:', best_parameter[0]) \n",
    "print('n_estimators:', best_parameter[1])\n",
    "print('min_samples_split:', best_parameter[2])\n",
    "print('min_samples_leaf:', best_parameter[3])                      "
   ]
  },
  {
   "cell_type": "markdown",
   "id": "a2f0043e",
   "metadata": {},
   "source": [
    "### Модель логической регрессии"
   ]
  },
  {
   "cell_type": "markdown",
   "id": "31d4e01c",
   "metadata": {},
   "source": [
    "Построим модель логической регрессии и исследуем ее качество. "
   ]
  },
  {
   "cell_type": "code",
   "execution_count": 13,
   "id": "c602d59c",
   "metadata": {},
   "outputs": [
    {
     "name": "stdout",
     "output_type": "stream",
     "text": [
      "Точность модели: 0.7406639004149378\n",
      "Гиперпараметры модели:\n",
      "max_iter: 1000\n"
     ]
    }
   ],
   "source": [
    "best_accuracy = 0\n",
    "max_iter=1000\n",
    "model_log_reg = LogisticRegression(random_state=12345, solver='lbfgs', max_iter=max_iter)\n",
    "model_log_reg.fit(features_train, target_train)\n",
    "predictions_log_reg = model_log_reg.predict(features_valid)\n",
    "result_log_reg = accuracy_score(target_valid, predictions_log_reg)\n",
    "if result_log_reg > best_accuracy:\n",
    "    best_accuracy = result_log_reg\n",
    "best_accuracy_log = best_accuracy\n",
    "print('Точность модели:', best_accuracy) \n",
    "print('Гиперпараметры модели:')\n",
    "print('max_iter:', max_iter)    "
   ]
  },
  {
   "cell_type": "markdown",
   "id": "1c95e56c",
   "metadata": {},
   "source": [
    "**Вывод:**"
   ]
  },
  {
   "cell_type": "code",
   "execution_count": 14,
   "id": "7bb3e471",
   "metadata": {},
   "outputs": [
    {
     "name": "stdout",
     "output_type": "stream",
     "text": [
      "Точность модели решающего дерева: 0.79\n",
      "Точность модели случайного леса: 0.8\n",
      "Точность модели логической регрессии: 0.74\n"
     ]
    }
   ],
   "source": [
    "print('Точность модели решающего дерева:', best_accuracy_tree.round(2))\n",
    "print('Точность модели случайного леса:', best_accuracy_forest.round(2))\n",
    "print('Точность модели логической регрессии:', best_accuracy_log.round(2))"
   ]
  },
  {
   "cell_type": "markdown",
   "id": "0bf84e55",
   "metadata": {},
   "source": [
    "Проведя исследования на четырех разных моделях, мы видим примерно одинаковый уровень точности. Среди моделей решающего дерева, случайного леса и логической регрессии, более точными являются первые две. В данной ситуации оба метода являются приемлемыми, и могут быть использованы для данного датасета. Если важна будет скорость, то модель решающего дерева сможет решить эту проблему. "
   ]
  },
  {
   "cell_type": "markdown",
   "id": "dccaaaf1",
   "metadata": {},
   "source": [
    "## Проверьте модель на тестовой выборке"
   ]
  },
  {
   "cell_type": "markdown",
   "id": "f52ba9ac",
   "metadata": {},
   "source": [
    "Мы выяснили, что лучший результат дала модель случайного леса, так что проведем проверку именно на ней. Мне не принципиальна скорость, поэтому я не стану рассматривать модель решающего дерева.\\\n",
    "В модели решающего леса мы получили точность около 0.807, при параметрах:\n",
    "- max_depth: 4\n",
    "- n_estimators: 10\n",
    "- min_samples_split: 2\n",
    "- min_samples_leaf: 2"
   ]
  },
  {
   "cell_type": "code",
   "execution_count": 15,
   "id": "874ce068",
   "metadata": {},
   "outputs": [
    {
     "name": "stdout",
     "output_type": "stream",
     "text": [
      "Точность модели на тестовой выборке: 0.81\n"
     ]
    }
   ],
   "source": [
    "model_forest = RandomForestClassifier(random_state=12345, n_estimators=10, max_depth=4, min_samples_split=2, min_samples_leaf=2)\n",
    "model_forest.fit(features, target)\n",
    "predictions = model_forest.predict(features_test)\n",
    "accuracy = accuracy_score(target_test, predictions)\n",
    "print('Точность модели на тестовой выборке:', accuracy.round(2))"
   ]
  },
  {
   "cell_type": "markdown",
   "id": "e03ee83e",
   "metadata": {},
   "source": [
    "**Вывод:** Были построены несколько классификационных моделей: решающее дерево, случайный лес, логистическая регрессия и линейная регрессия. Среди них, были выявлены две модели со сходными результатами - это модели решающего дерева и случайного леса, с результатами точночти равными 0.8 и 0.81 соотв. Модель случайного леса была проверена на тестовой выборке, получив резултать accuracy на валидационной выборке 0.81, а на тестовой 0.8."
   ]
  },
  {
   "cell_type": "code",
   "execution_count": 16,
   "id": "795111ea",
   "metadata": {},
   "outputs": [],
   "source": [
    "features_train_valid = pd.concat([features_train, features_valid])\n",
    "target_train_valid = pd.concat([target_train, target_valid])"
   ]
  },
  {
   "cell_type": "code",
   "execution_count": 17,
   "id": "ed6b405f",
   "metadata": {},
   "outputs": [
    {
     "name": "stdout",
     "output_type": "stream",
     "text": [
      "Точность модели на тестовой выборке: 0.8\n"
     ]
    }
   ],
   "source": [
    "model_forest = RandomForestClassifier(random_state=12345, n_estimators=10, max_depth=4, min_samples_split=2, min_samples_leaf=2)\n",
    "model_forest.fit(features_train_valid, target_train_valid)\n",
    "predictions = model_forest.predict(features_test)\n",
    "accuracy = accuracy_score(target_test, predictions)\n",
    "print('Точность модели на тестовой выборке:', accuracy.round(2))"
   ]
  },
  {
   "cell_type": "code",
   "execution_count": 18,
   "id": "a14ea6bc",
   "metadata": {},
   "outputs": [
    {
     "name": "stderr",
     "output_type": "stream",
     "text": [
      "C:\\Users\\Cat\\AppData\\Roaming\\Python\\Python39\\site-packages\\sklearn\\metrics\\_classification.py:1334: UndefinedMetricWarning: Precision is ill-defined and being set to 0.0 in labels with no predicted samples. Use `zero_division` parameter to control this behavior.\n",
      "  _warn_prf(average, modifier, msg_start, len(result))\n"
     ]
    },
    {
     "data": {
      "text/plain": [
       "array([0.5, 1. , 1. ])"
      ]
     },
     "execution_count": 18,
     "metadata": {},
     "output_type": "execute_result"
    }
   ],
   "source": [
    "from sklearn.metrics import precision_score\n",
    "y_true = [0, 1, 2, 0, 1, 2]\n",
    "y_pred = [0, 2, 1, 0, 0, 1]\n",
    "precision_score(y_true, y_pred, average='macro')\n",
    "\n",
    "precision_score(y_true, y_pred, average='micro')\n",
    "\n",
    "precision_score(y_true, y_pred, average='weighted')\n",
    "\n",
    "precision_score(y_true, y_pred, average=None)\n",
    "\n",
    "y_pred = [0, 0, 0, 0, 0, 0]\n",
    "precision_score(y_true, y_pred, average=None)\n",
    "\n",
    "precision_score(y_true, y_pred, average=None, zero_division=1)\n",
    "\n",
    "# multilabel classification\n",
    "y_true = [[0, 0, 0], [1, 1, 1], [0, 1, 1]]\n",
    "y_pred = [[0, 0, 0], [1, 1, 1], [1, 1, 0]]\n",
    "precision_score(y_true, y_pred, average=None)"
   ]
  },
  {
   "cell_type": "markdown",
   "id": "95336611",
   "metadata": {},
   "source": [
    "## (бонус) Проверьте модели на адекватность"
   ]
  },
  {
   "cell_type": "code",
   "execution_count": 19,
   "id": "5b3a0f13",
   "metadata": {},
   "outputs": [],
   "source": [
    "import numpy as np\n",
    "from sklearn.dummy import DummyClassifier"
   ]
  },
  {
   "cell_type": "code",
   "execution_count": 20,
   "id": "0b9cbe29",
   "metadata": {},
   "outputs": [
    {
     "data": {
      "text/plain": [
       "0.6933609958506224"
      ]
     },
     "execution_count": 20,
     "metadata": {},
     "output_type": "execute_result"
    }
   ],
   "source": [
    "dummy_clf = DummyClassifier(strategy=\"most_frequent\")\n",
    "dummy_clf.fit(features, target)\n",
    "dummy_clf.score(features, target)"
   ]
  },
  {
   "cell_type": "markdown",
   "id": "724519da",
   "metadata": {},
   "source": [
    "## Чек-лист готовности проекта"
   ]
  },
  {
   "cell_type": "markdown",
   "id": "2b9dea30",
   "metadata": {},
   "source": [
    "Поставьте 'x' в выполненных пунктах. Далее нажмите Shift+Enter."
   ]
  },
  {
   "cell_type": "markdown",
   "id": "181b9ac6",
   "metadata": {},
   "source": [
    "- [x] Jupyter Notebook открыт\n",
    "- [x] Весь код исполняется без ошибок\n",
    "- [x] Ячейки с кодом расположены в порядке исполнения\n",
    "- [x] Выполнено задание 1: данные загружены и изучены\n",
    "- [x] Выполнено задание 2: данные разбиты на три выборки\n",
    "- [x] Выполнено задание 3: проведено исследование моделей\n",
    "    - [x] Рассмотрено больше одной модели\n",
    "    - [x] Рассмотрено хотя бы 3 значения гипепараметров для какой-нибудь модели\n",
    "    - [x] Написаны выводы по результатам исследования\n",
    "- [x] Выполнено задание 3: Проведено тестирование\n",
    "- [x] Удалось достичь accuracy не меньше 0.75\n"
   ]
  },
  {
   "cell_type": "code",
   "execution_count": null,
   "id": "d9722474",
   "metadata": {},
   "outputs": [],
   "source": []
  }
 ],
 "metadata": {
  "kernelspec": {
   "display_name": "Python 3 (ipykernel)",
   "language": "python",
   "name": "python3"
  },
  "language_info": {
   "codemirror_mode": {
    "name": "ipython",
    "version": 3
   },
   "file_extension": ".py",
   "mimetype": "text/x-python",
   "name": "python",
   "nbconvert_exporter": "python",
   "pygments_lexer": "ipython3",
   "version": "3.9.13"
  },
  "toc": {
   "base_numbering": 1,
   "nav_menu": {},
   "number_sections": true,
   "sideBar": true,
   "skip_h1_title": true,
   "title_cell": "Table of Contents",
   "title_sidebar": "Contents",
   "toc_cell": true,
   "toc_position": {},
   "toc_section_display": true,
   "toc_window_display": false
  }
 },
 "nbformat": 4,
 "nbformat_minor": 5
}
