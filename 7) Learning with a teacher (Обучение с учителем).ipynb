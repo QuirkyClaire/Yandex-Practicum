{
 "cells": [
  {
   "cell_type": "markdown",
   "id": "61bed742",
   "metadata": {
    "toc": true
   },
   "source": [
    "<h1>Table of Contents<span class=\"tocSkip\"></span></h1>\n",
    "<div class=\"toc\"><ul class=\"toc-item\"><li><span><a href=\"#Подготовка-данных\" data-toc-modified-id=\"Подготовка-данных-1\"><span class=\"toc-item-num\">1&nbsp;&nbsp;</span>Подготовка данных</a></span><ul class=\"toc-item\"><li><span><a href=\"#Импорт-библиотек\" data-toc-modified-id=\"Импорт-библиотек-1.1\"><span class=\"toc-item-num\">1.1&nbsp;&nbsp;</span>Импорт библиотек</a></span></li><li><span><a href=\"#Загрузим-данные-из-файла-и-изучим-их.\" data-toc-modified-id=\"Загрузим-данные-из-файла-и-изучим-их.-1.2\"><span class=\"toc-item-num\">1.2&nbsp;&nbsp;</span>Загрузим данные из файла и изучим их.</a></span></li></ul></li><li><span><a href=\"#Исследование-задачи\" data-toc-modified-id=\"Исследование-задачи-2\"><span class=\"toc-item-num\">2&nbsp;&nbsp;</span>Исследование задачи</a></span><ul class=\"toc-item\"><li><span><a href=\"#Переведем-значения-признаков-в-классы.\" data-toc-modified-id=\"Переведем-значения-признаков-в-классы.-2.1\"><span class=\"toc-item-num\">2.1&nbsp;&nbsp;</span>Переведем значения признаков в классы.</a></span></li><li><span><a href=\"#Подготовка-данных-для-использования-в-моделях.\" data-toc-modified-id=\"Подготовка-данных-для-использования-в-моделях.-2.2\"><span class=\"toc-item-num\">2.2&nbsp;&nbsp;</span>Подготовка данных для использования в моделях.</a></span></li><li><span><a href=\"#Поиск-оптимальных-гиперпараметров-для-моделей-решающего-дерева,-случайного-леса-и-логистической-регрессии.\" data-toc-modified-id=\"Поиск-оптимальных-гиперпараметров-для-моделей-решающего-дерева,-случайного-леса-и-логистической-регрессии.-2.3\"><span class=\"toc-item-num\">2.3&nbsp;&nbsp;</span>Поиск оптимальных гиперпараметров для моделей решающего дерева, случайного леса и логистической регрессии.</a></span></li></ul></li><li><span><a href=\"#Борьба-с-дисбалансом\" data-toc-modified-id=\"Борьба-с-дисбалансом-3\"><span class=\"toc-item-num\">3&nbsp;&nbsp;</span>Борьба с дисбалансом</a></span><ul class=\"toc-item\"><li><span><a href=\"#Взвешивание-классов\" data-toc-modified-id=\"Взвешивание-классов-3.1\"><span class=\"toc-item-num\">3.1&nbsp;&nbsp;</span>Взвешивание классов</a></span></li><li><span><a href=\"#Upsampling\" data-toc-modified-id=\"Upsampling-3.2\"><span class=\"toc-item-num\">3.2&nbsp;&nbsp;</span>Upsampling</a></span></li><li><span><a href=\"#Downsampling\" data-toc-modified-id=\"Downsampling-3.3\"><span class=\"toc-item-num\">3.3&nbsp;&nbsp;</span>Downsampling</a></span></li></ul></li><li><span><a href=\"#Тестирование-модели\" data-toc-modified-id=\"Тестирование-модели-4\"><span class=\"toc-item-num\">4&nbsp;&nbsp;</span>Тестирование модели</a></span></li><li><span><a href=\"#Чек-лист-готовности-проекта\" data-toc-modified-id=\"Чек-лист-готовности-проекта-5\"><span class=\"toc-item-num\">5&nbsp;&nbsp;</span>Чек-лист готовности проекта</a></span></li></ul></div>"
   ]
  },
  {
   "cell_type": "markdown",
   "id": "3b63ed4e",
   "metadata": {},
   "source": [
    "# Отток клиентов"
   ]
  },
  {
   "cell_type": "markdown",
   "id": "a1e8ceba",
   "metadata": {},
   "source": [
    "Из «Бета-Банка» стали уходить клиенты. Каждый месяц. Немного, но заметно. Банковские маркетологи посчитали: сохранять текущих клиентов дешевле, чем привлекать новых.\n",
    "\n",
    "Нужно спрогнозировать, уйдёт клиент из банка в ближайшее время или нет. Вам предоставлены исторические данные о поведении клиентов и расторжении договоров с банком. \n",
    "\n",
    "Постройте модель с предельно большим значением *F1*-меры. Чтобы сдать проект успешно, нужно довести метрику до 0.59. Проверьте *F1*-меру на тестовой выборке самостоятельно.\n",
    "\n",
    "Дополнительно измеряйте *AUC-ROC*, сравнивайте её значение с *F1*-мерой.\n",
    "\n",
    "Источник данных: [https://www.kaggle.com/barelydedicated/bank-customer-churn-modeling](https://www.kaggle.com/barelydedicated/bank-customer-churn-modeling)"
   ]
  },
  {
   "cell_type": "markdown",
   "id": "86e2ee4d",
   "metadata": {},
   "source": [
    "## Подготовка данных"
   ]
  },
  {
   "cell_type": "markdown",
   "id": "19eb4d39",
   "metadata": {},
   "source": [
    "**Описание данных:**\n",
    "\n",
    "Каждый объект в наборе данных - это информация о поведении клиентов банка. Нужно проанализитровать данные, и создать модель, которая сможет найти закономерности поведения клиентов, и предсказать их уход.\n",
    "\n",
    "**Известные данные:**\n",
    "- **RowNumber** — индекс строки в данных;\n",
    "- **CustomerId** — уникальный идентификатор клиента;\n",
    "- **Surname** — фамилия;\n",
    "- **CreditScore** — кредитный рейтинг;\n",
    "- **Geography** — страна проживания;\n",
    "- **Gender** — пол;\n",
    "- **Age** — возраст;\n",
    "- **Tenure** — сколько лет человек является клиентом банка;\n",
    "- **Balance** — баланс на счёте;\n",
    "- **NumOfProducts** — количество продуктов банка, используемых клиентом;\n",
    "- **HasCrCard** — наличие кредитной карты;\n",
    "- **IsActiveMembe**r — активность клиента;\n",
    "- **EstimatedSalary** — предполагаемая зарплата.\n",
    "\n",
    "**Целевой признак:**\n",
    "- **Exited** — факт ухода клиента.\n"
   ]
  },
  {
   "cell_type": "markdown",
   "id": "6e77b0ef",
   "metadata": {},
   "source": [
    "### Импорт библиотек"
   ]
  },
  {
   "cell_type": "code",
   "execution_count": 1,
   "id": "8cd826a5",
   "metadata": {},
   "outputs": [],
   "source": [
    "import pandas as pd\n",
    "import matplotlib.pyplot as plt\n",
    "from sklearn.model_selection import train_test_split\n",
    "from sklearn.tree import DecisionTreeClassifier\n",
    "from sklearn.linear_model import LogisticRegression\n",
    "from sklearn.ensemble import RandomForestClassifier\n",
    "from tqdm import tqdm\n",
    "from sklearn.utils import shuffle\n",
    "from sklearn.metrics import (\n",
    "accuracy_score,\n",
    "recall_score,\n",
    "precision_score,\n",
    "f1_score,\n",
    "roc_auc_score,\n",
    "roc_curve\n",
    ")\n",
    "pd.options.mode.chained_assignment = None\n",
    "from sklearn.dummy import DummyClassifier\n",
    "import warnings\n",
    "warnings.filterwarnings('ignore')\n",
    "#!pip install scikit-learn==1.1.3"
   ]
  },
  {
   "cell_type": "markdown",
   "id": "3edeae77",
   "metadata": {},
   "source": [
    "### Загрузим данные из файла и изучим их."
   ]
  },
  {
   "cell_type": "code",
   "execution_count": 2,
   "id": "b75f92ab",
   "metadata": {},
   "outputs": [],
   "source": [
    "try:\n",
    "    data = pd.read_csv('/datasets/Churn.csv')\n",
    "except:\n",
    "    data = pd.read_csv('Churn.csv')"
   ]
  },
  {
   "cell_type": "code",
   "execution_count": 3,
   "id": "1c04c4b8",
   "metadata": {},
   "outputs": [
    {
     "data": {
      "text/html": [
       "<div>\n",
       "<style scoped>\n",
       "    .dataframe tbody tr th:only-of-type {\n",
       "        vertical-align: middle;\n",
       "    }\n",
       "\n",
       "    .dataframe tbody tr th {\n",
       "        vertical-align: top;\n",
       "    }\n",
       "\n",
       "    .dataframe thead th {\n",
       "        text-align: right;\n",
       "    }\n",
       "</style>\n",
       "<table border=\"1\" class=\"dataframe\">\n",
       "  <thead>\n",
       "    <tr style=\"text-align: right;\">\n",
       "      <th></th>\n",
       "      <th>RowNumber</th>\n",
       "      <th>CustomerId</th>\n",
       "      <th>Surname</th>\n",
       "      <th>CreditScore</th>\n",
       "      <th>Geography</th>\n",
       "      <th>Gender</th>\n",
       "      <th>Age</th>\n",
       "      <th>Tenure</th>\n",
       "      <th>Balance</th>\n",
       "      <th>NumOfProducts</th>\n",
       "      <th>HasCrCard</th>\n",
       "      <th>IsActiveMember</th>\n",
       "      <th>EstimatedSalary</th>\n",
       "      <th>Exited</th>\n",
       "    </tr>\n",
       "  </thead>\n",
       "  <tbody>\n",
       "    <tr>\n",
       "      <th>0</th>\n",
       "      <td>1</td>\n",
       "      <td>15634602</td>\n",
       "      <td>Hargrave</td>\n",
       "      <td>619</td>\n",
       "      <td>France</td>\n",
       "      <td>Female</td>\n",
       "      <td>42</td>\n",
       "      <td>2.0</td>\n",
       "      <td>0.00</td>\n",
       "      <td>1</td>\n",
       "      <td>1</td>\n",
       "      <td>1</td>\n",
       "      <td>101348.88</td>\n",
       "      <td>1</td>\n",
       "    </tr>\n",
       "    <tr>\n",
       "      <th>1</th>\n",
       "      <td>2</td>\n",
       "      <td>15647311</td>\n",
       "      <td>Hill</td>\n",
       "      <td>608</td>\n",
       "      <td>Spain</td>\n",
       "      <td>Female</td>\n",
       "      <td>41</td>\n",
       "      <td>1.0</td>\n",
       "      <td>83807.86</td>\n",
       "      <td>1</td>\n",
       "      <td>0</td>\n",
       "      <td>1</td>\n",
       "      <td>112542.58</td>\n",
       "      <td>0</td>\n",
       "    </tr>\n",
       "    <tr>\n",
       "      <th>2</th>\n",
       "      <td>3</td>\n",
       "      <td>15619304</td>\n",
       "      <td>Onio</td>\n",
       "      <td>502</td>\n",
       "      <td>France</td>\n",
       "      <td>Female</td>\n",
       "      <td>42</td>\n",
       "      <td>8.0</td>\n",
       "      <td>159660.80</td>\n",
       "      <td>3</td>\n",
       "      <td>1</td>\n",
       "      <td>0</td>\n",
       "      <td>113931.57</td>\n",
       "      <td>1</td>\n",
       "    </tr>\n",
       "    <tr>\n",
       "      <th>3</th>\n",
       "      <td>4</td>\n",
       "      <td>15701354</td>\n",
       "      <td>Boni</td>\n",
       "      <td>699</td>\n",
       "      <td>France</td>\n",
       "      <td>Female</td>\n",
       "      <td>39</td>\n",
       "      <td>1.0</td>\n",
       "      <td>0.00</td>\n",
       "      <td>2</td>\n",
       "      <td>0</td>\n",
       "      <td>0</td>\n",
       "      <td>93826.63</td>\n",
       "      <td>0</td>\n",
       "    </tr>\n",
       "    <tr>\n",
       "      <th>4</th>\n",
       "      <td>5</td>\n",
       "      <td>15737888</td>\n",
       "      <td>Mitchell</td>\n",
       "      <td>850</td>\n",
       "      <td>Spain</td>\n",
       "      <td>Female</td>\n",
       "      <td>43</td>\n",
       "      <td>2.0</td>\n",
       "      <td>125510.82</td>\n",
       "      <td>1</td>\n",
       "      <td>1</td>\n",
       "      <td>1</td>\n",
       "      <td>79084.10</td>\n",
       "      <td>0</td>\n",
       "    </tr>\n",
       "  </tbody>\n",
       "</table>\n",
       "</div>"
      ],
      "text/plain": [
       "   RowNumber  CustomerId   Surname  CreditScore Geography  Gender  Age  \\\n",
       "0          1    15634602  Hargrave          619    France  Female   42   \n",
       "1          2    15647311      Hill          608     Spain  Female   41   \n",
       "2          3    15619304      Onio          502    France  Female   42   \n",
       "3          4    15701354      Boni          699    France  Female   39   \n",
       "4          5    15737888  Mitchell          850     Spain  Female   43   \n",
       "\n",
       "   Tenure    Balance  NumOfProducts  HasCrCard  IsActiveMember  \\\n",
       "0     2.0       0.00              1          1               1   \n",
       "1     1.0   83807.86              1          0               1   \n",
       "2     8.0  159660.80              3          1               0   \n",
       "3     1.0       0.00              2          0               0   \n",
       "4     2.0  125510.82              1          1               1   \n",
       "\n",
       "   EstimatedSalary  Exited  \n",
       "0        101348.88       1  \n",
       "1        112542.58       0  \n",
       "2        113931.57       1  \n",
       "3         93826.63       0  \n",
       "4         79084.10       0  "
      ]
     },
     "execution_count": 3,
     "metadata": {},
     "output_type": "execute_result"
    }
   ],
   "source": [
    "data.head()"
   ]
  },
  {
   "cell_type": "code",
   "execution_count": 4,
   "id": "30e0e380",
   "metadata": {},
   "outputs": [
    {
     "name": "stdout",
     "output_type": "stream",
     "text": [
      "<class 'pandas.core.frame.DataFrame'>\n",
      "RangeIndex: 10000 entries, 0 to 9999\n",
      "Data columns (total 14 columns):\n",
      " #   Column           Non-Null Count  Dtype  \n",
      "---  ------           --------------  -----  \n",
      " 0   RowNumber        10000 non-null  int64  \n",
      " 1   CustomerId       10000 non-null  int64  \n",
      " 2   Surname          10000 non-null  object \n",
      " 3   CreditScore      10000 non-null  int64  \n",
      " 4   Geography        10000 non-null  object \n",
      " 5   Gender           10000 non-null  object \n",
      " 6   Age              10000 non-null  int64  \n",
      " 7   Tenure           9091 non-null   float64\n",
      " 8   Balance          10000 non-null  float64\n",
      " 9   NumOfProducts    10000 non-null  int64  \n",
      " 10  HasCrCard        10000 non-null  int64  \n",
      " 11  IsActiveMember   10000 non-null  int64  \n",
      " 12  EstimatedSalary  10000 non-null  float64\n",
      " 13  Exited           10000 non-null  int64  \n",
      "dtypes: float64(3), int64(8), object(3)\n",
      "memory usage: 1.1+ MB\n"
     ]
    }
   ],
   "source": [
    "data.info()"
   ]
  },
  {
   "cell_type": "code",
   "execution_count": 5,
   "id": "f152ce95",
   "metadata": {},
   "outputs": [
    {
     "data": {
      "image/png": "[encoded data removed]",
      "text/plain": [
       "<Figure size 1500x2000 with 12 Axes>"
      ]
     },
     "metadata": {},
     "output_type": "display_data"
    }
   ],
   "source": [
    "data.hist(figsize=(15, 20));"
   ]
  },
  {
   "cell_type": "markdown",
   "id": "ed9d2dce",
   "metadata": {},
   "source": [
    "Файл был успешно загружен и просмотрен на наличие ошибок. Все показатели соответсвуют ожидаемым значениям признаков, типы данных не имеют ошибок. В столбце Tenure мы имеем пропуски данных около 10%, что представляет собой достаточно большой пласт общего датасета, поэтому убрать данные позиции будет ошибкой. Согласно гистограммам, мы можем привести пропуски в столбце Tenure к медиане. Основная масса записей людей по годам примерно одинаковая и не имеет больших искажений, кроме тех кто работает с банком около 10 лет. дополнительно Tenure переведем в формат int, так как \"стаж\" клиента определяется круглым значением года. Так же столбцы RowNumber, CustomerId, Surname — стоит удалить, так как они не несут значений, которые как либо должны повлиять на целевой признак. Фамилия, номер и индекс никак с этим не связаны."
   ]
  },
  {
   "cell_type": "code",
   "execution_count": 6,
   "id": "5347a8bc",
   "metadata": {},
   "outputs": [
    {
     "data": {
      "text/plain": [
       "array([ 2.,  1.,  8.,  7.,  4.,  6.,  3., 10.,  5.,  9.,  0., nan])"
      ]
     },
     "execution_count": 6,
     "metadata": {},
     "output_type": "execute_result"
    }
   ],
   "source": [
    "data['Tenure'].unique()"
   ]
  },
  {
   "cell_type": "code",
   "execution_count": 7,
   "id": "418144f6",
   "metadata": {},
   "outputs": [],
   "source": [
    "median_type = data['Tenure'].median()\n",
    "data['Tenure'] = data['Tenure'].fillna(median_type)"
   ]
  },
  {
   "cell_type": "code",
   "execution_count": 8,
   "id": "8362ba45",
   "metadata": {},
   "outputs": [],
   "source": [
    "data = data.drop(['RowNumber', 'CustomerId', 'Surname'], axis=1)"
   ]
  },
  {
   "cell_type": "code",
   "execution_count": 9,
   "id": "beb6b575",
   "metadata": {},
   "outputs": [],
   "source": [
    "data['Tenure'] = data['Tenure'].astype('int64')"
   ]
  },
  {
   "cell_type": "code",
   "execution_count": 10,
   "id": "e66b6e71",
   "metadata": {},
   "outputs": [
    {
     "name": "stdout",
     "output_type": "stream",
     "text": [
      "<class 'pandas.core.frame.DataFrame'>\n",
      "RangeIndex: 10000 entries, 0 to 9999\n",
      "Data columns (total 11 columns):\n",
      " #   Column           Non-Null Count  Dtype  \n",
      "---  ------           --------------  -----  \n",
      " 0   CreditScore      10000 non-null  int64  \n",
      " 1   Geography        10000 non-null  object \n",
      " 2   Gender           10000 non-null  object \n",
      " 3   Age              10000 non-null  int64  \n",
      " 4   Tenure           10000 non-null  int64  \n",
      " 5   Balance          10000 non-null  float64\n",
      " 6   NumOfProducts    10000 non-null  int64  \n",
      " 7   HasCrCard        10000 non-null  int64  \n",
      " 8   IsActiveMember   10000 non-null  int64  \n",
      " 9   EstimatedSalary  10000 non-null  float64\n",
      " 10  Exited           10000 non-null  int64  \n",
      "dtypes: float64(2), int64(7), object(2)\n",
      "memory usage: 859.5+ KB\n"
     ]
    }
   ],
   "source": [
    "data.info()"
   ]
  },
  {
   "cell_type": "markdown",
   "id": "f52456ca",
   "metadata": {},
   "source": [
    "**Вывод:** Таблица была исправлена и подготовлена для дальнейшей работы."
   ]
  },
  {
   "cell_type": "markdown",
   "id": "e1f57c67",
   "metadata": {},
   "source": [
    "## Исследование задачи"
   ]
  },
  {
   "cell_type": "markdown",
   "id": "81c6ee80",
   "metadata": {},
   "source": [
    "###  Переведем значения признаков в классы."
   ]
  },
  {
   "cell_type": "markdown",
   "id": "1a98bd3b",
   "metadata": {},
   "source": [
    "**Разделим признаки на категориальные и количественные типы:**"
   ]
  },
  {
   "cell_type": "markdown",
   "id": "06359fd2",
   "metadata": {},
   "source": [
    "**Категориальные** - Geography, Gender.\n",
    "\n",
    "**Количественные** - Age, Tenure, Balance, NumOfProducts, EstimatedSalary, CreditScore, HasCrCard, IsActiveMember, Exited."
   ]
  },
  {
   "cell_type": "markdown",
   "id": "61a9d39e",
   "metadata": {},
   "source": [
    "**Переведем категориальные признаки в численные с помощью прямого кодировниая OHE:**"
   ]
  },
  {
   "cell_type": "code",
   "execution_count": 11,
   "id": "d7bbedd5",
   "metadata": {},
   "outputs": [],
   "source": [
    "data = pd.get_dummies(data, drop_first=True)"
   ]
  },
  {
   "cell_type": "code",
   "execution_count": 12,
   "id": "2c9c2447",
   "metadata": {},
   "outputs": [
    {
     "name": "stdout",
     "output_type": "stream",
     "text": [
      "<class 'pandas.core.frame.DataFrame'>\n",
      "RangeIndex: 10000 entries, 0 to 9999\n",
      "Data columns (total 12 columns):\n",
      " #   Column             Non-Null Count  Dtype  \n",
      "---  ------             --------------  -----  \n",
      " 0   CreditScore        10000 non-null  int64  \n",
      " 1   Age                10000 non-null  int64  \n",
      " 2   Tenure             10000 non-null  int64  \n",
      " 3   Balance            10000 non-null  float64\n",
      " 4   NumOfProducts      10000 non-null  int64  \n",
      " 5   HasCrCard          10000 non-null  int64  \n",
      " 6   IsActiveMember     10000 non-null  int64  \n",
      " 7   EstimatedSalary    10000 non-null  float64\n",
      " 8   Exited             10000 non-null  int64  \n",
      " 9   Geography_Germany  10000 non-null  uint8  \n",
      " 10  Geography_Spain    10000 non-null  uint8  \n",
      " 11  Gender_Male        10000 non-null  uint8  \n",
      "dtypes: float64(2), int64(7), uint8(3)\n",
      "memory usage: 732.5 KB\n"
     ]
    }
   ],
   "source": [
    "data.info()"
   ]
  },
  {
   "cell_type": "markdown",
   "id": "a7707580",
   "metadata": {},
   "source": [
    "### Подготовка данных для использования в моделях."
   ]
  },
  {
   "cell_type": "markdown",
   "id": "53e4b355",
   "metadata": {},
   "source": [
    "**Разделение данных на целевой и остальные признаки:**"
   ]
  },
  {
   "cell_type": "code",
   "execution_count": 13,
   "id": "c0696645",
   "metadata": {},
   "outputs": [],
   "source": [
    "features = data.drop('Exited', axis=1)\n",
    "target = data['Exited']"
   ]
  },
  {
   "cell_type": "markdown",
   "id": "149eada9",
   "metadata": {},
   "source": [
    "**Разделение основной выборки на тренировочную, тестовую и валидационную:**"
   ]
  },
  {
   "cell_type": "code",
   "execution_count": 14,
   "id": "fda316e7",
   "metadata": {},
   "outputs": [],
   "source": [
    "features, features_test, target, target_test = train_test_split(features, target, test_size=0.2, random_state=12345, stratify=target)\n",
    "features_train, features_valid, target_train, target_valid = train_test_split(features, target, test_size=0.2, random_state=12345)"
   ]
  },
  {
   "cell_type": "code",
   "execution_count": 15,
   "id": "5de9d74e",
   "metadata": {},
   "outputs": [
    {
     "name": "stdout",
     "output_type": "stream",
     "text": [
      "Распределение:\n",
      "features_test: (2000, 11) features_valid: (1600, 11) features_train: (6400, 11)\n"
     ]
    }
   ],
   "source": [
    "print('Распределение:')\n",
    "print('features_test:', features_test.shape, 'features_valid:', features_valid.shape, 'features_train:', features_train.shape)"
   ]
  },
  {
   "cell_type": "markdown",
   "id": "9c7d0b65",
   "metadata": {},
   "source": [
    "**Проверим баланс классов на полученных данных после кодировки:**"
   ]
  },
  {
   "cell_type": "code",
   "execution_count": 16,
   "id": "4c60f06c",
   "metadata": {},
   "outputs": [
    {
     "data": {
      "image/png": "[encoded data removed]",
      "text/plain": [
       "<Figure size 640x480 with 1 Axes>"
      ]
     },
     "metadata": {},
     "output_type": "display_data"
    }
   ],
   "source": [
    "class_balance = data['Exited'].value_counts(normalize=True)\n",
    "class_balance.plot(kind='bar');\n",
    "plt.title('Баланс таргет классов');\n",
    "plt.ylabel('Уровень');\n",
    "plt.xlabel('Классы');"
   ]
  },
  {
   "cell_type": "markdown",
   "id": "1b620d41",
   "metadata": {},
   "source": [
    "**Вывод:** Мы наблюдаем перевес классов в пользу нулевых значений. К исправлению этой проблемы мы вернемся позже, а сейчас построим модели и найдем для них оптимальные параметры. "
   ]
  },
  {
   "cell_type": "markdown",
   "id": "f4efb4ed",
   "metadata": {},
   "source": [
    "### Поиск оптимальных гиперпараметров для моделей решающего дерева, случайного леса и логистической регрессии. "
   ]
  },
  {
   "cell_type": "markdown",
   "id": "0d1936a6",
   "metadata": {},
   "source": [
    "**Модель решающего дерева:**"
   ]
  },
  {
   "cell_type": "markdown",
   "id": "b4f74f92",
   "metadata": {},
   "source": [
    "Обучим модель без учета баланса с гиперпараметрами: max_depth, min_samples_split, min_samples_leaf.\n",
    "\n",
    "Для моделей проведем оценки с помощью метрик: accuracy_score, recall, precisionm и F1."
   ]
  },
  {
   "cell_type": "code",
   "execution_count": 17,
   "id": "4f6535bb",
   "metadata": {},
   "outputs": [
    {
     "name": "stderr",
     "output_type": "stream",
     "text": [
      "100%|██████████| 13/13 [00:07<00:00,  1.64it/s]"
     ]
    },
    {
     "name": "stdout",
     "output_type": "stream",
     "text": [
      "Аccuracy_Score: 0.85375\n",
      "Гиперпараметры модели:\n",
      "max_depth: 7\n",
      "min_samples_split: 2\n",
      "min_samples_leaf: 7\n",
      "\\\\\\\\\\\\\\\\\\\\\\\\\\\\\\\\\\\\\\\\\\\\\\\\\\\\\\\\\\\\\n",
      "Recall: 0.45180722891566266\n",
      "Гиперпараметры модели:\n",
      "max_depth: 13\n",
      "min_samples_split: 7\n",
      "min_samples_leaf: 3\n",
      "\\\\\\\\\\\\\\\\\\\\\\\\\\\\\\\\\\\\\\\\\\\\\\\\\\\\\\\\\\\\\n",
      "Precisionm: 0.8026315789473685\n",
      "Гиперпараметры модели:\n",
      "max_depth: 6\n",
      "min_samples_split: 2\n",
      "min_samples_leaf: 6\n",
      "\\\\\\\\\\\\\\\\\\\\\\\\\\\\\\\\\\\\\\\\\\\\\\\\\\\\\\\\\\\\\n",
      "F1: 0.5568181818181819\n",
      "Гиперпараметры модели:\n",
      "max_depth: 8\n",
      "min_samples_split: 2\n",
      "min_samples_leaf: 5\n",
      "\\\\\\\\\\\\\\\\\\\\\\\\\\\\\\\\\\\\\\\\\\\\\\\\\\\\\\\\\\\\\n",
      "Wall time: 7.94 s\n"
     ]
    },
    {
     "name": "stderr",
     "output_type": "stream",
     "text": [
      "\n"
     ]
    }
   ],
   "source": [
    "%%time\n",
    "best_accuracy = 0\n",
    "best_recall = 0\n",
    "best_precisionm = 0\n",
    "best_f1 = 0\n",
    "best_depth = 0\n",
    "for max_depth in tqdm(range(2, 15)):\n",
    "    for min_samples_split in range(2, 8):\n",
    "        for min_samples_leaf in range(2, 8):\n",
    "            model_tree = DecisionTreeClassifier(random_state=12345, max_depth=max_depth, min_samples_split=min_samples_split, min_samples_leaf=min_samples_leaf)\n",
    "            model_tree.fit(features_train, target_train)\n",
    "            predictions_valid_tree = model_tree.predict(features_valid)\n",
    "            \n",
    "            accuracy_result_tree = accuracy_score(target_valid, predictions_valid_tree)\n",
    "            \n",
    "            recall_result_tree = recall_score(target_valid, predictions_valid_tree)\n",
    "            \n",
    "            precision_result_tree = precision_score(target_valid, predictions_valid_tree)\n",
    "            \n",
    "            f1_result_tree = f1_score(target_valid, predictions_valid_tree)\n",
    "\n",
    "            \n",
    "            if accuracy_result_tree > best_accuracy:\n",
    "                best_parameter = [max_depth, min_samples_split, min_samples_leaf]\n",
    "                best_accuracy = accuracy_result_tree\n",
    "               \n",
    "\n",
    "            if recall_result_tree > best_recall:\n",
    "                best_parameter_1 = [max_depth, min_samples_split, min_samples_leaf]\n",
    "                best_recall = recall_result_tree\n",
    "                \n",
    "                \n",
    "            if precision_result_tree > best_precisionm:\n",
    "                best_parameter_2 = [max_depth, min_samples_split, min_samples_leaf]\n",
    "                best_precisionm = precision_result_tree\n",
    "            \n",
    "            \n",
    "            if f1_result_tree > best_f1:\n",
    "                best_parameter_3 = [max_depth, min_samples_split, min_samples_leaf]\n",
    "                best_f1 = f1_result_tree\n",
    "                \n",
    "                \n",
    "print('Аccuracy_Score:', best_accuracy) \n",
    "print('Гиперпараметры модели:')\n",
    "print('max_depth:', best_parameter[0]) \n",
    "print('min_samples_split:', best_parameter[1])\n",
    "print('min_samples_leaf:', best_parameter[2])                 \n",
    "print('\\\\\\\\\\\\\\\\\\\\\\\\\\\\\\\\\\\\\\\\\\\\\\\\\\\\\\\\\\\\\\\\\\\\\\\\\\\\\\\\\\\\\\\\\\\\\\\\\\\\\\\\\\\\\\\\\\\\\\\\')                                \n",
    "print('Recall:', best_recall) \n",
    "print('Гиперпараметры модели:')\n",
    "print('max_depth:', best_parameter_1[0]) \n",
    "print('min_samples_split:', best_parameter_1[1])\n",
    "print('min_samples_leaf:', best_parameter_1[2])\n",
    "print('\\\\\\\\\\\\\\\\\\\\\\\\\\\\\\\\\\\\\\\\\\\\\\\\\\\\\\\\\\\\\\\\\\\\\\\\\\\\\\\\\\\\\\\\\\\\\\\\\\\\\\\\\\\\\\\\\\\\\\\\')\n",
    "print('Precisionm:', best_precisionm) \n",
    "print('Гиперпараметры модели:')\n",
    "print('max_depth:', best_parameter_2[0]) \n",
    "print('min_samples_split:', best_parameter_2[1])\n",
    "print('min_samples_leaf:', best_parameter_2[2])\n",
    "print('\\\\\\\\\\\\\\\\\\\\\\\\\\\\\\\\\\\\\\\\\\\\\\\\\\\\\\\\\\\\\\\\\\\\\\\\\\\\\\\\\\\\\\\\\\\\\\\\\\\\\\\\\\\\\\\\\\\\\\\\')\n",
    "print('F1:', best_f1) \n",
    "print('Гиперпараметры модели:')\n",
    "print('max_depth:', best_parameter_3[0]) \n",
    "print('min_samples_split:', best_parameter_3[1])\n",
    "print('min_samples_leaf:', best_parameter_3[2])  \n",
    "print('\\\\\\\\\\\\\\\\\\\\\\\\\\\\\\\\\\\\\\\\\\\\\\\\\\\\\\\\\\\\\\\\\\\\\\\\\\\\\\\\\\\\\\\\\\\\\\\\\\\\\\\\\\\\\\\\\\\\\\\\')"
   ]
  },
  {
   "cell_type": "markdown",
   "id": "6bd21660",
   "metadata": {},
   "source": [
    "**Оптимальные гиперпараметры для модели решающего дерева:**"
   ]
  },
  {
   "cell_type": "markdown",
   "id": "d5ea498d",
   "metadata": {},
   "source": [
    "**Аccuracy_Score:** 0.85375\\\n",
    "**Гиперпараметры модели:**\\\n",
    "**max_depth:** 7\\\n",
    "**min_samples_split:** 2\\\n",
    "**min_samples_leaf:** 7"
   ]
  },
  {
   "cell_type": "markdown",
   "id": "63ac01f8",
   "metadata": {},
   "source": [
    "**Параметры согласно F1 - метрики:**"
   ]
  },
  {
   "cell_type": "markdown",
   "id": "e3ef2f7b",
   "metadata": {},
   "source": [
    "**F1:** 0.5551330798479087\\\n",
    "**Гиперпараметры модели:**\\\n",
    "**max_depth:** 8\\\n",
    "**min_samples_split:** 2\\\n",
    "**min_samples_leaf:** 5\\\n",
    "**Wall time:** 8.42 s"
   ]
  },
  {
   "cell_type": "markdown",
   "id": "7efd8254",
   "metadata": {},
   "source": [
    "**Модель случайного леса:**"
   ]
  },
  {
   "cell_type": "code",
   "execution_count": 18,
   "id": "be136ecd",
   "metadata": {},
   "outputs": [
    {
     "name": "stderr",
     "output_type": "stream",
     "text": [
      "100%|██████████| 9/9 [00:43<00:00,  4.80s/it]"
     ]
    },
    {
     "name": "stdout",
     "output_type": "stream",
     "text": [
      "Аccuracy_Score: 0.861875\n",
      "Гиперпараметры модели:\n",
      "n_estimators: 7\n",
      "max_depth: 13\n",
      "min_samples_split: 2\n",
      "min_samples_leaf: 5\n",
      "\\\\\\\\\\\\\\\\\\\\\\\\\\\\\\\\\\\\\\\\\\\\\\\\\\\\\\\\\\\\\n",
      "Recall: 0.4939759036144578\n",
      "Гиперпараметры модели:\n",
      "n_estimators: 1\n",
      "max_depth: 8\n",
      "min_samples_split: 2\n",
      "min_samples_leaf: 4\n",
      "\\\\\\\\\\\\\\\\\\\\\\\\\\\\\\\\\\\\\\\\\\\\\\\\\\\\\\\\\\\\\n",
      "Precisionm: 1.0\n",
      "Гиперпараметры модели:\n",
      "n_estimators: 3\n",
      "max_depth: 2\n",
      "min_samples_split: 2\n",
      "min_samples_leaf: 2\n",
      "\\\\\\\\\\\\\\\\\\\\\\\\\\\\\\\\\\\\\\\\\\\\\\\\\\\\\\\\\\\\\n",
      "F1: 0.585820895522388\n",
      "Гиперпараметры модели:\n",
      "n_estimators: 2\n",
      "max_depth: 8\n",
      "min_samples_split: 2\n",
      "min_samples_leaf: 3\n",
      "\\\\\\\\\\\\\\\\\\\\\\\\\\\\\\\\\\\\\\\\\\\\\\\\\\\\\\\\\\\\\n",
      "Wall time: 43.2 s\n"
     ]
    },
    {
     "name": "stderr",
     "output_type": "stream",
     "text": [
      "\n"
     ]
    }
   ],
   "source": [
    "%%time\n",
    "best_accuracy = 0\n",
    "best_recall = 0\n",
    "best_precisionm = 0\n",
    "best_f1 = 0\n",
    "best_n_estimators = 0\n",
    "best_depth = 0\n",
    "\n",
    "for n_estimators in tqdm(range(1, 10)):\n",
    "    for max_depth in range(2, 15):\n",
    "        for min_samples_split in range(2, 6):\n",
    "            for min_samples_leaf in range(2, 6):\n",
    "                model_tree = RandomForestClassifier(random_state=12345, n_estimators=n_estimators, max_depth=max_depth, min_samples_split=min_samples_split, min_samples_leaf=min_samples_leaf)\n",
    "                model_tree.fit(features_train, target_train)\n",
    "                predictions_valid_tree = model_tree.predict(features_valid)\n",
    "                \n",
    "                accuracy_result_tree = accuracy_score(target_valid, predictions_valid_tree)\n",
    "                \n",
    "                recall_result_tree = recall_score(target_valid, predictions_valid_tree)\n",
    "                \n",
    "                precision_result_tree = precision_score(target_valid, predictions_valid_tree)\n",
    "                \n",
    "                f1_result_tree = f1_score(target_valid, predictions_valid_tree)\n",
    "                \n",
    "                \n",
    "                \n",
    "                if accuracy_result_tree > best_accuracy:\n",
    "                    best_parameter = [n_estimators, max_depth, min_samples_split, min_samples_leaf]\n",
    "                    best_accuracy = accuracy_result_tree\n",
    "                    \n",
    "                if recall_result_tree > best_recall:\n",
    "                    best_parameter_1 = [n_estimators, max_depth, min_samples_split, min_samples_leaf]\n",
    "                    best_recall = recall_result_tree\n",
    "                    \n",
    "                if precision_result_tree > best_precisionm:\n",
    "                    best_parameter_2 = [n_estimators, max_depth, min_samples_split, min_samples_leaf]\n",
    "                    best_precisionm = precision_result_tree\n",
    "                    \n",
    "                if f1_result_tree > best_f1:\n",
    "                    best_parameter_3 = [n_estimators, max_depth, min_samples_split, min_samples_leaf]\n",
    "                    best_f1 = f1_result_tree\n",
    "                \n",
    "                \n",
    "print('Аccuracy_Score:', best_accuracy) \n",
    "print('Гиперпараметры модели:')\n",
    "print('n_estimators:', best_parameter[0])\n",
    "print('max_depth:', best_parameter[1]) \n",
    "print('min_samples_split:', best_parameter[2])\n",
    "print('min_samples_leaf:', best_parameter[3])                 \n",
    "print('\\\\\\\\\\\\\\\\\\\\\\\\\\\\\\\\\\\\\\\\\\\\\\\\\\\\\\\\\\\\\\\\\\\\\\\\\\\\\\\\\\\\\\\\\\\\\\\\\\\\\\\\\\\\\\\\\\\\\\\\')                                \n",
    "print('Recall:', best_recall) \n",
    "print('Гиперпараметры модели:')\n",
    "print('n_estimators:', best_parameter_1[0])\n",
    "print('max_depth:', best_parameter_1[1]) \n",
    "print('min_samples_split:', best_parameter_1[2])\n",
    "print('min_samples_leaf:', best_parameter_1[3])\n",
    "print('\\\\\\\\\\\\\\\\\\\\\\\\\\\\\\\\\\\\\\\\\\\\\\\\\\\\\\\\\\\\\\\\\\\\\\\\\\\\\\\\\\\\\\\\\\\\\\\\\\\\\\\\\\\\\\\\\\\\\\\\')\n",
    "print('Precisionm:', best_precisionm) \n",
    "print('Гиперпараметры модели:')\n",
    "print('n_estimators:', best_parameter_2[0])\n",
    "print('max_depth:', best_parameter_2[1]) \n",
    "print('min_samples_split:', best_parameter_2[2])\n",
    "print('min_samples_leaf:', best_parameter_2[3])\n",
    "print('\\\\\\\\\\\\\\\\\\\\\\\\\\\\\\\\\\\\\\\\\\\\\\\\\\\\\\\\\\\\\\\\\\\\\\\\\\\\\\\\\\\\\\\\\\\\\\\\\\\\\\\\\\\\\\\\\\\\\\\\')\n",
    "print('F1:', best_f1) \n",
    "print('Гиперпараметры модели:')\n",
    "print('n_estimators:', best_parameter_3[0])\n",
    "print('max_depth:', best_parameter_3[1]) \n",
    "print('min_samples_split:', best_parameter_3[2])\n",
    "print('min_samples_leaf:', best_parameter_3[3])\n",
    "print('\\\\\\\\\\\\\\\\\\\\\\\\\\\\\\\\\\\\\\\\\\\\\\\\\\\\\\\\\\\\\\\\\\\\\\\\\\\\\\\\\\\\\\\\\\\\\\\\\\\\\\\\\\\\\\\\\\\\\\\\')"
   ]
  },
  {
   "cell_type": "markdown",
   "id": "77be8645",
   "metadata": {},
   "source": [
    "**Оптимальные гиперпараметры для модели случайного леса:**"
   ]
  },
  {
   "cell_type": "markdown",
   "id": "67adf61e",
   "metadata": {},
   "source": [
    "**Аccuracy_Score:** 0.86125\\\n",
    "**Гиперпараметры модели:**\\\n",
    "**n_estimators:** 4\\\n",
    "**max_depth:** 5\\\n",
    "**min_samples_split:** 2\\\n",
    "**min_samples_leaf:** 2"
   ]
  },
  {
   "cell_type": "markdown",
   "id": "938b22c0",
   "metadata": {},
   "source": [
    "**Параметры согласно F1 - метрики:**"
   ]
  },
  {
   "cell_type": "markdown",
   "id": "d32e8420",
   "metadata": {},
   "source": [
    "**F1:** 0.587360594795539\\\n",
    "**Гиперпараметры модели:**\\\n",
    "**n_estimators:** 4\\\n",
    "**max_depth:** 11\\\n",
    "**min_samples_split:** 2\\\n",
    "**min_samples_leaf:** 4\\\n",
    "**Wall time:** 41 s"
   ]
  },
  {
   "cell_type": "markdown",
   "id": "4fbbf181",
   "metadata": {},
   "source": [
    "**Модель логической регрессии:**"
   ]
  },
  {
   "cell_type": "code",
   "execution_count": 19,
   "id": "82da7652",
   "metadata": {},
   "outputs": [
    {
     "name": "stdout",
     "output_type": "stream",
     "text": [
      "Аccuracy_Score: 0.794375\n",
      "Гиперпараметры модели:\n",
      "max_iter: 1500\n",
      "\\\\\\\\\\\\\\\\\\\\\\\\\\\\\\\\\\\\\\\\\\\\\\\\\\\\\\\\\\\\\n",
      "Recall: 0.05421686746987952\n",
      "Гиперпараметры модели:\n",
      "max_iter: 1500\n",
      "\\\\\\\\\\\\\\\\\\\\\\\\\\\\\\\\\\\\\\\\\\\\\\\\\\\\\\\\\\\\\n",
      "Precisionm: 0.5454545454545454\n",
      "Гиперпараметры модели:\n",
      "max_iter: 1500\n",
      "\\\\\\\\\\\\\\\\\\\\\\\\\\\\\\\\\\\\\\\\\\\\\\\\\\\\\\\\\\\\\n",
      "F1: 0.09863013698630137\n",
      "Гиперпараметры модели:\n",
      "max_iter: 1500\n",
      "\\\\\\\\\\\\\\\\\\\\\\\\\\\\\\\\\\\\\\\\\\\\\\\\\\\\\\\\\\\\\n",
      "Wall time: 30 ms\n"
     ]
    }
   ],
   "source": [
    "%%time\n",
    "best_accuracy = 0\n",
    "best_recall = 0\n",
    "best_precisionm = 0\n",
    "best_f1 = 0\n",
    "max_iter=1500\n",
    "model_log_reg = LogisticRegression(random_state=12345, solver='lbfgs', max_iter=max_iter)\n",
    "model_log_reg.fit(features_train, target_train)\n",
    "predictions_valid_tree = model_log_reg.predict(features_valid)\n",
    "\n",
    "accuracy_result_tree = accuracy_score(target_valid, predictions_valid_tree)\n",
    "       \n",
    "recall_result_tree = recall_score(target_valid, predictions_valid_tree)\n",
    "                \n",
    "precision_result_tree = precision_score(target_valid, predictions_valid_tree)\n",
    "                \n",
    "f1_result_tree = f1_score(target_valid, predictions_valid_tree)\n",
    "\n",
    "\n",
    "if accuracy_result_tree > best_accuracy:\n",
    "    \n",
    "    best_accuracy = accuracy_result_tree\n",
    "               \n",
    "if recall_result_tree > best_recall:\n",
    "    \n",
    "    best_recall = recall_result_tree\n",
    "                \n",
    "if precision_result_tree > best_precisionm:\n",
    "    \n",
    "    best_precisionm = precision_result_tree\n",
    "            \n",
    "if f1_result_tree > best_f1:\n",
    "   \n",
    "    best_f1 = f1_result_tree\n",
    "    \n",
    "                \n",
    "print('Аccuracy_Score:', best_accuracy) \n",
    "print('Гиперпараметры модели:')\n",
    "print('max_iter:', max_iter)                 \n",
    "print('\\\\\\\\\\\\\\\\\\\\\\\\\\\\\\\\\\\\\\\\\\\\\\\\\\\\\\\\\\\\\\\\\\\\\\\\\\\\\\\\\\\\\\\\\\\\\\\\\\\\\\\\\\\\\\\\\\\\\\\\')                                \n",
    "print('Recall:', best_recall) \n",
    "print('Гиперпараметры модели:')\n",
    "print('max_iter:', max_iter) \n",
    "print('\\\\\\\\\\\\\\\\\\\\\\\\\\\\\\\\\\\\\\\\\\\\\\\\\\\\\\\\\\\\\\\\\\\\\\\\\\\\\\\\\\\\\\\\\\\\\\\\\\\\\\\\\\\\\\\\\\\\\\\\')\n",
    "print('Precisionm:', best_precisionm) \n",
    "print('Гиперпараметры модели:')\n",
    "print('max_iter:', max_iter) \n",
    "print('\\\\\\\\\\\\\\\\\\\\\\\\\\\\\\\\\\\\\\\\\\\\\\\\\\\\\\\\\\\\\\\\\\\\\\\\\\\\\\\\\\\\\\\\\\\\\\\\\\\\\\\\\\\\\\\\\\\\\\\\')\n",
    "print('F1:', best_f1) \n",
    "print('Гиперпараметры модели:')\n",
    "print('max_iter:', max_iter)\n",
    "print('\\\\\\\\\\\\\\\\\\\\\\\\\\\\\\\\\\\\\\\\\\\\\\\\\\\\\\\\\\\\\\\\\\\\\\\\\\\\\\\\\\\\\\\\\\\\\\\\\\\\\\\\\\\\\\\\\\\\\\\\')"
   ]
  },
  {
   "cell_type": "markdown",
   "id": "7c6c117d",
   "metadata": {},
   "source": [
    "**Оптимальные гиперпараметры для модели логической регрессии:**"
   ]
  },
  {
   "cell_type": "markdown",
   "id": "12f34136",
   "metadata": {},
   "source": [
    "**Аccuracy_Score:** 0.794375\\\n",
    "**Гиперпараметры модели:**\\\n",
    "**max_iter:** 1500"
   ]
  },
  {
   "cell_type": "markdown",
   "id": "35d77ed5",
   "metadata": {},
   "source": [
    "**Параметры согласно F1 - метрики:**"
   ]
  },
  {
   "cell_type": "markdown",
   "id": "57ef258e",
   "metadata": {},
   "source": [
    "**F1:** 0.09863013698630137\\\n",
    "**Гиперпараметры модели:**\\\n",
    "**max_iter:** 1500"
   ]
  },
  {
   "cell_type": "markdown",
   "id": "2fbe9343",
   "metadata": {},
   "source": [
    "По итогам исследования, лучшие показатели метрик имеет модель случайного леса. Стоит построить тестовую модель именно на этом типе, с полученными гиперпараметрами:"
   ]
  },
  {
   "cell_type": "markdown",
   "id": "8cf4dadb",
   "metadata": {},
   "source": [
    "**F1:** 0.587360594795539\\\n",
    "**Гиперпараметры модели:**\\\n",
    "**n_estimators:** 4\\\n",
    "**max_depth:** 11\\\n",
    "**min_samples_split:** 2\\\n",
    "**min_samples_leaf:** 4\\\n",
    "**Wall time:** 41 s"
   ]
  },
  {
   "cell_type": "code",
   "execution_count": 20,
   "id": "907e1027",
   "metadata": {},
   "outputs": [
    {
     "name": "stdout",
     "output_type": "stream",
     "text": [
      "Метрики по тестовой модели\n",
      "Accuracy: 0.86\n",
      "Recall: 0.48\n",
      "Precision 0.72\n",
      "F1 0.58\n"
     ]
    },
    {
     "data": {
      "image/png": "[encoded data removed]",
      "text/plain": [
       "<Figure size 640x480 with 1 Axes>"
      ]
     },
     "metadata": {},
     "output_type": "display_data"
    },
    {
     "name": "stdout",
     "output_type": "stream",
     "text": [
      "Площадь Roc кривой:\n",
      "Auc_roc: 0.8403033233541708\n",
      "Wall time: 111 ms\n"
     ]
    }
   ],
   "source": [
    "%%time\n",
    "model_forest_test = RandomForestClassifier(random_state=12345, n_estimators=4, max_depth=11, min_samples_split=2, min_samples_leaf=4)\n",
    "model_forest_test.fit(features, target)\n",
    "predictions_test = model_forest_test.predict(features_test)\n",
    "\n",
    "accuracy_test = accuracy_score(target_test, predictions_test)\n",
    "recall_test = recall_score(target_test, predictions_test)\n",
    "precision_test = precision_score(target_test, predictions_test)\n",
    "f1_test = f1_score(target_test, predictions_test)\n",
    "\n",
    "print('Метрики по тестовой модели')\n",
    "print('Accuracy:', accuracy_test.round(2))\n",
    "print('Recall:', recall_test.round(2))\n",
    "print('Precision', precision_test.round(2))\n",
    "print('F1', f1_test.round(2))\n",
    "\n",
    "\n",
    "probabilities_test = model_forest_test.predict_proba(features_test)\n",
    "probabilities_one_test = probabilities_test[:, 1]\n",
    "fpr, tpr, thresholds = roc_curve(target_test, probabilities_one_test)\n",
    " \n",
    "plt.figure()\n",
    "plt.plot(fpr, tpr)\n",
    "plt.plot([0, 1], [0, 1], linestyle='--')\n",
    "plt.xlim([0.0, 1.0])\n",
    "plt.ylim([0.0, 1.0])\n",
    "plt.xlabel('False Positive Rate')\n",
    "plt.ylabel('True Positive Rate')\n",
    "plt.title('ROC-кривая')\n",
    "plt.show()\n",
    "\n",
    "auc_roc = roc_auc_score(target_test, probabilities_one_test)\n",
    "print('Площадь Roc кривой:')\n",
    "print('Auc_roc:', auc_roc)"
   ]
  },
  {
   "cell_type": "markdown",
   "id": "8217295c",
   "metadata": {},
   "source": [
    "**Вывод:** Было проведено исследования, в рамках которого мы искали подходящую модель, и оптимальные гиперпараметры для нее. На полученных исходных была бучена тестовая модель с точностью равной 0.84, значением F1 равной 0.53 и auc_roc равной 0.82. Из полученных метрик можно сделать вывод о том, что модель достаточно точна, с большим уровеним истинно положительных ответов с малым количеством случайностей. Но в целом модель построена на неравномерных данных, от чего следует, что ее качество может быть значительно выше. "
   ]
  },
  {
   "cell_type": "markdown",
   "id": "55a2b252",
   "metadata": {},
   "source": [
    "## Борьба с дисбалансом"
   ]
  },
  {
   "cell_type": "markdown",
   "id": "36467b6f",
   "metadata": {},
   "source": [
    "Соотношение значений целевого признака 5:1 (для классов 0 и 1 соответственно)\n",
    "Для борьбы с дисбалансом классов применим несколько методов:\n",
    "- взвешивание классов (class_weight='balanced');\n",
    "- увеличение выборки положительного класса (Upsampling);\n",
    "- уменьшение выборки отрицательного класса (sampling);"
   ]
  },
  {
   "cell_type": "markdown",
   "id": "385be4eb",
   "metadata": {},
   "source": [
    "### Взвешивание классов"
   ]
  },
  {
   "cell_type": "markdown",
   "id": "ac257693",
   "metadata": {},
   "source": [
    "**Проведем исследование и найдем самую оптимальную модель с использованием параметра class_weight:**"
   ]
  },
  {
   "cell_type": "markdown",
   "id": "9e77a19e",
   "metadata": {},
   "source": [
    "Модель решающего дерева:"
   ]
  },
  {
   "cell_type": "code",
   "execution_count": 21,
   "id": "c890e894",
   "metadata": {},
   "outputs": [
    {
     "name": "stderr",
     "output_type": "stream",
     "text": [
      "100%|██████████| 13/13 [00:07<00:00,  1.73it/s]"
     ]
    },
    {
     "name": "stdout",
     "output_type": "stream",
     "text": [
      "F1: 0.6210392902408112\n",
      "Гиперпараметры модели:\n",
      "max_depth: 6\n",
      "min_samples_split: 2\n",
      "min_samples_leaf: 4\n",
      "\\\\\\\\\\\\\\\\\\\\\\\\\\\\\\\\\\\\\\\\\\\\\\\\\\\\\\\\\\\\\n",
      "Wall time: 7.53 s\n"
     ]
    },
    {
     "name": "stderr",
     "output_type": "stream",
     "text": [
      "\n"
     ]
    }
   ],
   "source": [
    "%%time\n",
    "best_f1 = 0\n",
    "best_depth = 0\n",
    "for max_depth in tqdm(range(2, 15)):\n",
    "    for min_samples_split in range(2, 8):\n",
    "        for min_samples_leaf in range(2, 8):\n",
    "            model_tree = DecisionTreeClassifier(random_state=12345, max_depth=max_depth, min_samples_split=min_samples_split, min_samples_leaf=min_samples_leaf, class_weight = 'balanced')\n",
    "            model_tree.fit(features_train, target_train)\n",
    "            predictions_valid_tree = model_tree.predict(features_valid)\n",
    "            \n",
    "            f1_result_tree = f1_score(target_valid, predictions_valid_tree)\n",
    "\n",
    "            if f1_result_tree > best_f1:\n",
    "                best_parameter = [max_depth, min_samples_split, min_samples_leaf]\n",
    "                best_f1 = f1_result_tree\n",
    "                \n",
    "print('F1:', best_f1) \n",
    "print('Гиперпараметры модели:')\n",
    "print('max_depth:', best_parameter[0]) \n",
    "print('min_samples_split:', best_parameter[1])\n",
    "print('min_samples_leaf:', best_parameter[2])  \n",
    "print('\\\\\\\\\\\\\\\\\\\\\\\\\\\\\\\\\\\\\\\\\\\\\\\\\\\\\\\\\\\\\\\\\\\\\\\\\\\\\\\\\\\\\\\\\\\\\\\\\\\\\\\\\\\\\\\\\\\\\\\\')"
   ]
  },
  {
   "cell_type": "markdown",
   "id": "fbdec32a",
   "metadata": {},
   "source": [
    "Модель случайного леса:"
   ]
  },
  {
   "cell_type": "code",
   "execution_count": 22,
   "id": "3cec24f7",
   "metadata": {},
   "outputs": [
    {
     "name": "stderr",
     "output_type": "stream",
     "text": [
      "100%|██████████| 9/9 [00:43<00:00,  4.78s/it]"
     ]
    },
    {
     "name": "stdout",
     "output_type": "stream",
     "text": [
      "F1: 0.6424418604651162\n",
      "Гиперпараметры модели:\n",
      "n_estimators: 7\n",
      "max_depth: 9\n",
      "min_samples_split: 2\n",
      "min_samples_leaf: 3\n",
      "\\\\\\\\\\\\\\\\\\\\\\\\\\\\\\\\\\\\\\\\\\\\\\\\\\\\\\\\\\\\\n",
      "Wall time: 43 s\n"
     ]
    },
    {
     "name": "stderr",
     "output_type": "stream",
     "text": [
      "\n"
     ]
    }
   ],
   "source": [
    "%%time\n",
    "best_f1 = 0\n",
    "best_n_estimators = 0\n",
    "best_depth = 0\n",
    "\n",
    "for n_estimators in tqdm(range(1, 10)):\n",
    "    for max_depth in range(2, 15):\n",
    "        for min_samples_split in range(2, 6):\n",
    "            for min_samples_leaf in range(2, 6):\n",
    "                model_tree = RandomForestClassifier(random_state=12345, n_estimators=n_estimators, max_depth=max_depth, min_samples_split=min_samples_split, min_samples_leaf=min_samples_leaf, class_weight = 'balanced')\n",
    "                model_tree.fit(features_train, target_train)\n",
    "                predictions_valid_tree = model_tree.predict(features_valid)\n",
    "                \n",
    "                f1_result_tree = f1_score(target_valid, predictions_valid_tree)\n",
    "                \n",
    "                if f1_result_tree > best_f1:\n",
    "                    best_parameter = [n_estimators, max_depth, min_samples_split, min_samples_leaf]\n",
    "                    best_f1 = f1_result_tree\n",
    "                \n",
    "print('F1:', best_f1) \n",
    "print('Гиперпараметры модели:')\n",
    "print('n_estimators:', best_parameter[0])\n",
    "print('max_depth:', best_parameter[1]) \n",
    "print('min_samples_split:', best_parameter[2])\n",
    "print('min_samples_leaf:', best_parameter[3])\n",
    "print('\\\\\\\\\\\\\\\\\\\\\\\\\\\\\\\\\\\\\\\\\\\\\\\\\\\\\\\\\\\\\\\\\\\\\\\\\\\\\\\\\\\\\\\\\\\\\\\\\\\\\\\\\\\\\\\\\\\\\\\\')"
   ]
  },
  {
   "cell_type": "markdown",
   "id": "2b13de5f",
   "metadata": {},
   "source": [
    "Модель логической регрессии:"
   ]
  },
  {
   "cell_type": "code",
   "execution_count": 23,
   "id": "24b2a160",
   "metadata": {},
   "outputs": [
    {
     "name": "stdout",
     "output_type": "stream",
     "text": [
      "F1: 0.45702730030333666\n",
      "Гиперпараметры модели:\n",
      "max_iter: 1500\n",
      "\\\\\\\\\\\\\\\\\\\\\\\\\\\\\\\\\\\\\\\\\\\\\\\\\\\\\\\\\\\\\n",
      "Wall time: 27 ms\n"
     ]
    }
   ],
   "source": [
    "%%time\n",
    "best_f1 = 0\n",
    "max_iter=1500\n",
    "model_log_reg = LogisticRegression(random_state=12345, solver='lbfgs', max_iter=max_iter, class_weight = 'balanced')\n",
    "model_log_reg.fit(features_train, target_train)\n",
    "predictions_valid_tree = model_log_reg.predict(features_valid)\n",
    "\n",
    "f1_result_tree = f1_score(target_valid, predictions_valid_tree)\n",
    "\n",
    "if f1_result_tree > best_f1:\n",
    "   \n",
    "    best_f1 = f1_result_tree\n",
    "    \n",
    "print('F1:', best_f1) \n",
    "print('Гиперпараметры модели:')\n",
    "print('max_iter:', max_iter)\n",
    "print('\\\\\\\\\\\\\\\\\\\\\\\\\\\\\\\\\\\\\\\\\\\\\\\\\\\\\\\\\\\\\\\\\\\\\\\\\\\\\\\\\\\\\\\\\\\\\\\\\\\\\\\\\\\\\\\\\\\\\\\\')"
   ]
  },
  {
   "cell_type": "markdown",
   "id": "548666e3",
   "metadata": {},
   "source": [
    "По итогам исследования, лучшие показатели метрик имеет модель случайного леса. Стоит построить тестовую модель именно на этом типе, с полученными гиперпараметрами:\n",
    "\n",
    "**F1:** 0.6424418604651162\\\n",
    "**Гиперпараметры модели:**\\\n",
    "**n_estimators:** 7\\\n",
    "**max_depth:** 9\\\n",
    "**min_samples_split:** 2\\\n",
    "**min_samples_leaf:** 3\n",
    "\n",
    "Модель случайного леса вновь осталась лучшей, но в данном случае мы получили прирост **F1** метрики на 4-6% в моделях дерева и леса соотв. "
   ]
  },
  {
   "cell_type": "markdown",
   "id": "5981535b",
   "metadata": {},
   "source": [
    "### Upsampling"
   ]
  },
  {
   "cell_type": "markdown",
   "id": "eee13e45",
   "metadata": {},
   "source": [
    "**Создадим функцию для увеличения выборки:**"
   ]
  },
  {
   "cell_type": "code",
   "execution_count": 24,
   "id": "d745c1dd",
   "metadata": {},
   "outputs": [],
   "source": [
    "def upsample(features, target, repeat):\n",
    "    features_zeros = features[target == 0]\n",
    "    features_ones = features[target == 1]\n",
    "    target_zeros = target[target == 0]\n",
    "    target_ones = target[target == 1]\n",
    "    \n",
    "    features_upsampled = pd.concat([features_zeros] + [features_ones] * repeat)\n",
    "    target_upsampled = pd.concat([target_zeros] + [target_ones] * repeat)\n",
    "    \n",
    "    features_upsampled, target_upsampled = shuffle(\n",
    "        features_upsampled, target_upsampled, random_state=12345)\n",
    "    return features_upsampled, target_upsampled"
   ]
  },
  {
   "cell_type": "code",
   "execution_count": 25,
   "id": "3911a7e7",
   "metadata": {},
   "outputs": [
    {
     "name": "stdout",
     "output_type": "stream",
     "text": [
      "F1: 0.6232439335887612\n"
     ]
    }
   ],
   "source": [
    "features_upsampled, target_upsampled = upsample(features_train, target_train, 4)\n",
    "\n",
    "model_upsampled = RandomForestClassifier(random_state=12345, n_estimators=7, max_depth=9, min_samples_split=2, min_samples_leaf=3)\n",
    "model_upsampled.fit(features_upsampled, target_upsampled)\n",
    "predicted_valid_upsampled = model_upsampled.predict(features_valid)\n",
    "print(\"F1:\", f1_score(target_valid, predicted_valid_upsampled))"
   ]
  },
  {
   "cell_type": "markdown",
   "id": "c1c9f0e2",
   "metadata": {},
   "source": [
    "### Downsampling"
   ]
  },
  {
   "cell_type": "markdown",
   "id": "9f3aa97d",
   "metadata": {},
   "source": [
    "**Создадим функцию для уменьшения выборки:**"
   ]
  },
  {
   "cell_type": "code",
   "execution_count": 26,
   "id": "b8d5d78e",
   "metadata": {},
   "outputs": [],
   "source": [
    "def downsample(features, target, fraction):\n",
    "    features_zeros = features[target == 0]\n",
    "    features_ones = features[target == 1]\n",
    "    target_zeros = target[target == 0]\n",
    "    target_ones = target[target == 1]\n",
    "    \n",
    "    features_downsampled = pd.concat(\n",
    "        [features_zeros.sample(frac=fraction, random_state=12345)] + [features_ones])\n",
    "    target_downsampled = pd.concat(\n",
    "        [target_zeros.sample(frac=fraction, random_state=12345)] + [target_ones])\n",
    "    \n",
    "    features_downsampled, target_downsampled = shuffle(\n",
    "        features_downsampled, target_downsampled, random_state=12345)\n",
    "    return features_downsampled, target_downsampled"
   ]
  },
  {
   "cell_type": "code",
   "execution_count": 27,
   "id": "31cdca77",
   "metadata": {},
   "outputs": [
    {
     "name": "stdout",
     "output_type": "stream",
     "text": [
      "F1: 0.5763888888888888\n"
     ]
    }
   ],
   "source": [
    "features_downsampled, target_downsampled = downsample(features_train, target_train, 0.25)\n",
    "\n",
    "model_downsample = RandomForestClassifier(random_state=12345, n_estimators=7, max_depth=9, min_samples_split=2, min_samples_leaf=3)\n",
    "model_downsample.fit(features_downsampled, target_downsampled)\n",
    "predicted_valid_downsample = model_downsample.predict(features_valid)\n",
    "print(\"F1:\", f1_score(target_valid, predicted_valid_downsample))"
   ]
  },
  {
   "cell_type": "markdown",
   "id": "6d6e37ce",
   "metadata": {},
   "source": [
    "**Вывод:** Лучший результат для модели, показывает метод Balanced, который повышает значение метрики F1 до 0.64."
   ]
  },
  {
   "cell_type": "markdown",
   "id": "0379b00d",
   "metadata": {},
   "source": [
    "## Тестирование модели"
   ]
  },
  {
   "cell_type": "markdown",
   "id": "9d513960",
   "metadata": {},
   "source": [
    "**Проведем тестировние модели случайного леса с оптимальными гиперпараметрами, и с предварительным балансированием классов с помощью метода upsampling:**"
   ]
  },
  {
   "cell_type": "code",
   "execution_count": 28,
   "id": "e5d837f0",
   "metadata": {},
   "outputs": [],
   "source": [
    "def upsample(features, target, repeat):\n",
    "    features_zeros = features[target == 0]\n",
    "    features_ones = features[target == 1]\n",
    "    target_zeros = target[target == 0]\n",
    "    target_ones = target[target == 1]\n",
    "    \n",
    "    features_upsampled = pd.concat([features_zeros] + [features_ones] * repeat)\n",
    "    target_upsampled = pd.concat([target_zeros] + [target_ones] * repeat)\n",
    "    \n",
    "    features_upsampled, target_upsampled = shuffle(\n",
    "        features_upsampled, target_upsampled, random_state=12345)\n",
    "    return features_upsampled, target_upsampled"
   ]
  },
  {
   "cell_type": "code",
   "execution_count": 29,
   "id": "c8e3d2be",
   "metadata": {},
   "outputs": [
    {
     "name": "stdout",
     "output_type": "stream",
     "text": [
      "Recall 0.48157248157248156\n",
      "F1: 0.6136595310907238\n"
     ]
    }
   ],
   "source": [
    "features_upsampled, target_upsampled = upsample(features_train, target_train, 4)\n",
    "\n",
    "model_upsampled = RandomForestClassifier(random_state=12345, n_estimators=7, max_depth=9, min_samples_split=2, min_samples_leaf=3)\n",
    "model_upsampled.fit(features_upsampled, target_upsampled)\n",
    "predicted_test = model_upsampled.predict(features_test)\n",
    "r = recall_result_balanced = recall_score(target_test, predictions_test)\n",
    "\n",
    "print('Recall', r)\n",
    "print(\"F1:\", f1_score(target_test, predicted_test))"
   ]
  },
  {
   "cell_type": "code",
   "execution_count": 30,
   "id": "26875770",
   "metadata": {},
   "outputs": [
    {
     "data": {
      "image/png": "[encoded data removed]",
      "text/plain": [
       "<Figure size 640x480 with 1 Axes>"
      ]
     },
     "metadata": {},
     "output_type": "display_data"
    },
    {
     "name": "stdout",
     "output_type": "stream",
     "text": [
      "Площадь Roc кривой:\n",
      "Auc_roc: 0.8581686463042395\n"
     ]
    }
   ],
   "source": [
    "probabilities_upsampled_test = model_upsampled.predict_proba(features_test)\n",
    "probabilities_one_upsampled_test = probabilities_upsampled_test[:, 1]\n",
    "fpr, tpr, thresholds = roc_curve(target_test, probabilities_one_upsampled_test)\n",
    " \n",
    "plt.figure()\n",
    "plt.plot(fpr, tpr)\n",
    "plt.plot([0, 1], [0, 1], linestyle='--')\n",
    "plt.xlim([0.0, 1.0])\n",
    "plt.ylim([0.0, 1.0])\n",
    "plt.xlabel('False Positive Rate')\n",
    "plt.ylabel('True Positive Rate')\n",
    "plt.title('ROC-кривая')\n",
    "plt.show()\n",
    "\n",
    "auc_roc_upsampled_test = roc_auc_score(target_test, probabilities_one_upsampled_test)\n",
    "print('Площадь Roc кривой:')\n",
    "print('Auc_roc:', auc_roc_upsampled_test)"
   ]
  },
  {
   "cell_type": "code",
   "execution_count": 31,
   "id": "8266fffe",
   "metadata": {},
   "outputs": [
    {
     "name": "stdout",
     "output_type": "stream",
     "text": [
      "Константная модель:\n",
      "0.2028125\n",
      "Константная модель по F1 мере:\n",
      "0.3381803074366431\n"
     ]
    }
   ],
   "source": [
    "dummy_model = DummyClassifier(strategy='constant', constant=1)\n",
    "dummy_model.fit(features_train, target_train)\n",
    "dummy = dummy_model.score(features_train, target_train)\n",
    "dummy_f1 = f1_score(dummy_model.predict(features_test), target_test)\n",
    "\n",
    "print('Константная модель:')\n",
    "print(dummy)\n",
    "print('Константная модель по F1 мере:')\n",
    "print(dummy_f1)"
   ]
  },
  {
   "cell_type": "markdown",
   "id": "1ee1bf17",
   "metadata": {},
   "source": [
    "**Вывод:** Была проведена работа над поиском подходящей модели и оптимальных для нее гиперпараметров. Изначальный датасет был исследован и зачищен от лишних данных, которые не влияют на сам процесс обучения. Признаки, которые могли бы вызвать затруднения в дальшейшей работе, были закодированы в соотв. значениям классы. Исследования в поиске модели показали оптимальный вариант - **RFC c параметрами: n_estimators - 7, max_depth - 9, min_samples_split - 2, min_samples_leaf - 3.**\n",
    "\n",
    "Прогон модели по тестовой выборке показал приемлемые результаты: \n",
    "\n",
    "**- Accuracy: 0.86**\\\n",
    "**- F1 0.58**\n",
    "\n",
    "Проведя исследование в балансировке данных, метод **balanced** показал лучшее значение **F1** = 0.64 на валидной выборке, но хуже чем **upsampling** на тестовой. Поэтому была выбран метон **upsampling**, который показал результат **F1** равный 0.61 на тестовой выборке. \n",
    "\n",
    "Показатель **AUC-ROC** показывает хороший уровень истинных ответов и общей адекватности модели рывный 0.85.\n",
    "\n",
    "Показатель **Recall** также достаточно высок = 0.72. Это говорит о том, что модель хорошо ищет положительные объекты в модели."
   ]
  },
  {
   "cell_type": "markdown",
   "id": "44bbdb33",
   "metadata": {},
   "source": [
    "## Чек-лист готовности проекта"
   ]
  },
  {
   "cell_type": "markdown",
   "id": "85220f00",
   "metadata": {},
   "source": [
    "Поставьте 'x' в выполненных пунктах. Далее нажмите Shift+Enter."
   ]
  },
  {
   "cell_type": "markdown",
   "id": "bd67d083",
   "metadata": {},
   "source": [
    "- [x]  Jupyter Notebook открыт\n",
    "- [x]  Весь код выполняется без ошибок\n",
    "- [x]  Ячейки с кодом расположены в порядке исполнения\n",
    "- [x]  Выполнен шаг 1: данные подготовлены\n",
    "- [x]  Выполнен шаг 2: задача исследована\n",
    "    - [x]  Исследован баланс классов\n",
    "    - [x]  Изучены модели без учёта дисбаланса\n",
    "    - [x]  Написаны выводы по результатам исследования\n",
    "- [x]  Выполнен шаг 3: учтён дисбаланс\n",
    "    - [x]  Применено несколько способов борьбы с дисбалансом\n",
    "    - [x]  Написаны выводы по результатам исследования\n",
    "- [x]  Выполнен шаг 4: проведено тестирование\n",
    "- [x]  Удалось достичь *F1*-меры не менее 0.59\n",
    "- [x]  Исследована метрика *AUC-ROC*"
   ]
  },
  {
   "cell_type": "code",
   "execution_count": null,
   "id": "c1ec5c36",
   "metadata": {},
   "outputs": [],
   "source": []
  }
 ],
 "metadata": {
  "kernelspec": {
   "display_name": "Python 3 (ipykernel)",
   "language": "python",
   "name": "python3"
  },
  "language_info": {
   "codemirror_mode": {
    "name": "ipython",
    "version": 3
   },
   "file_extension": ".py",
   "mimetype": "text/x-python",
   "name": "python",
   "nbconvert_exporter": "python",
   "pygments_lexer": "ipython3",
   "version": "3.9.13"
  },
  "toc": {
   "base_numbering": 1,
   "nav_menu": {},
   "number_sections": true,
   "sideBar": true,
   "skip_h1_title": true,
   "title_cell": "Table of Contents",
   "title_sidebar": "Contents",
   "toc_cell": true,
   "toc_position": {},
   "toc_section_display": true,
   "toc_window_display": false
  }
 },
 "nbformat": 4,
 "nbformat_minor": 5
}
